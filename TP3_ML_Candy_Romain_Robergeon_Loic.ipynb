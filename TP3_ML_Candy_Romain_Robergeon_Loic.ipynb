{
 "cells": [
  {
   "cell_type": "code",
   "execution_count": 14,
   "metadata": {},
   "outputs": [],
   "source": [
    "import pandas as pd\n",
    "import numpy as np\n",
    "from sklearn.ensemble import AdaBoostClassifier, RandomForestClassifier\n",
    "from sklearn.tree import DecisionTreeClassifier\n",
    "from sklearn.neural_network import MLPClassifier\n",
    "from sklearn.svm import SVC\n",
    "from xgboost.sklearn import XGBClassifier\n",
    "from sklearn.model_selection import KFold, StratifiedKFold\n",
    "from sklearn.metrics import roc_auc_score, recall_score, precision_score\n",
    "from sklearn.feature_extraction.text import CountVectorizer\n",
    "from sklearn.feature_extraction.text import TfidfVectorizer\n",
    "from sklearn.decomposition import TruncatedSVD"
   ]
  },
  {
   "cell_type": "markdown",
   "metadata": {},
   "source": [
    "# Données textuelles"
   ]
  },
  {
   "cell_type": "code",
   "execution_count": 6,
   "metadata": {},
   "outputs": [],
   "source": [
    "sms = pd.read_csv('SMSSpamCollection.data', delimiter=\"\\t\", header=None)\n",
    "sms.columns = ['label', 'sms']\n",
    "sms.label = sms.label.map(lambda x: int(x == 'spam'))\n",
    "y = sms.label\n",
    "contenue = sms.sms.tolist()\n",
    "kf = StratifiedKFold(n_splits=9, shuffle=True, random_state=20)"
   ]
  },
  {
   "cell_type": "code",
   "execution_count": 7,
   "metadata": {},
   "outputs": [],
   "source": [
    "def run_one_classfier(nclf, X, y, verbose=0):\n",
    "    r = list()\n",
    "    name, clf= nclf\n",
    "    X0 = X\n",
    "    print('{} commence'.format(name))\n",
    "    if name == \"XGBOOST\":\n",
    "        try:\n",
    "            X0 = X0.toarray()\n",
    "        except AttributeError:\n",
    "            X0 = X\n",
    "    cv_acc = cross_validate(clf, X0, y, cv=kf, scoring=('accuracy', 'roc_auc', 'recall', 'precision'),\n",
    "               return_train_score=True, verbose=verbose, n_jobs=3)\n",
    "    r.extend([name,\n",
    "          str(np.round(np.mean(cv_acc['test_accuracy']),4)) + ' +/- ' + str(np.round(np.std(cv_acc['test_accuracy']),4)),\n",
    "          str(np.round(np.mean(cv_acc['test_roc_auc']),4)) + ' +/- ' + str(np.round(np.std(cv_acc['test_roc_auc']),4)),\n",
    "          str(np.round(np.mean(cv_acc['test_recall']),4)) + ' +/- ' + str(np.round(np.std(cv_acc['test_recall']),4)),\n",
    "          str(np.round(np.mean(cv_acc['test_precision']),4)) + ' +/- ' + str(np.round(np.std(cv_acc['test_precision']),4)),\n",
    "          str(np.round(np.mean(cv_acc['fit_time']),4)) + 's'])\n",
    "    print('{} fini'.format(name))\n",
    "    return r\n",
    "\n",
    "def run_all_classifier(clfs, X, y):\n",
    "    # r = list(map(run_one_classfier, clfs))\n",
    "    r = [run_one_classfier(c, X, y) for c in clfs]\n",
    "    res = pd.DataFrame(r)\n",
    "    res.columns = ['Name', 'Accuracy', 'AUC','Recall','Precision', 'Time']\n",
    "    return res"
   ]
  },
  {
   "cell_type": "code",
   "execution_count": 8,
   "metadata": {},
   "outputs": [
    {
     "name": "stdout",
     "output_type": "stream",
     "text": [
      "Tree commence\n",
      "Tree fini\n",
      "RF commence\n",
      "RF fini\n",
      "AdaBoost commence\n",
      "AdaBoost fini\n",
      "SVM commence\n"
     ]
    },
    {
     "name": "stderr",
     "output_type": "stream",
     "text": [
      "/home/romain/anaconda3/lib/python3.6/site-packages/sklearn/metrics/classification.py:1135: UndefinedMetricWarning: Precision is ill-defined and being set to 0.0 due to no predicted samples.\n",
      "  'precision', 'predicted', average, warn_for)\n",
      "/home/romain/anaconda3/lib/python3.6/site-packages/sklearn/metrics/classification.py:1135: UndefinedMetricWarning: Precision is ill-defined and being set to 0.0 due to no predicted samples.\n",
      "  'precision', 'predicted', average, warn_for)\n",
      "/home/romain/anaconda3/lib/python3.6/site-packages/sklearn/metrics/classification.py:1135: UndefinedMetricWarning: Precision is ill-defined and being set to 0.0 due to no predicted samples.\n",
      "  'precision', 'predicted', average, warn_for)\n"
     ]
    },
    {
     "name": "stdout",
     "output_type": "stream",
     "text": [
      "SVM fini\n",
      "XGBOOST commence\n",
      "XGBOOST fini\n",
      "MLPC commence\n",
      "MLPC fini\n"
     ]
    }
   ],
   "source": [
    "cclfs=(\n",
    "    ('Tree', DecisionTreeClassifier(random_state=20)),\n",
    "    ('RF', RandomForestClassifier(n_estimators=50, random_state=20)),\n",
    "    ('AdaBoost', AdaBoostClassifier(n_estimators=50, random_state=20)),\n",
    "    ('SVM', SVC()),\n",
    "    ('XGBOOST', XGBClassifier(\n",
    "        n_estimators=50,\n",
    "        seed=20)),\n",
    "    (\"MLPC\", MLPClassifier(hidden_layer_sizes=(20, 10),solver='lbfgs' ))\n",
    ")\n",
    "vectorizer1 = CountVectorizer()\n",
    "X1 = vectorizer1.fit_transform(contenue)\n",
    "\n",
    "etape1 = run_all_classifier(cclfs, X1, y)"
   ]
  },
  {
   "cell_type": "code",
   "execution_count": 9,
   "metadata": {},
   "outputs": [
    {
     "data": {
      "text/html": [
       "<div>\n",
       "<style scoped>\n",
       "    .dataframe tbody tr th:only-of-type {\n",
       "        vertical-align: middle;\n",
       "    }\n",
       "\n",
       "    .dataframe tbody tr th {\n",
       "        vertical-align: top;\n",
       "    }\n",
       "\n",
       "    .dataframe thead th {\n",
       "        text-align: right;\n",
       "    }\n",
       "</style>\n",
       "<table border=\"1\" class=\"dataframe\">\n",
       "  <thead>\n",
       "    <tr style=\"text-align: right;\">\n",
       "      <th></th>\n",
       "      <th>Name</th>\n",
       "      <th>Accuracy</th>\n",
       "      <th>AUC</th>\n",
       "      <th>Recall</th>\n",
       "      <th>Precision</th>\n",
       "      <th>Time</th>\n",
       "    </tr>\n",
       "  </thead>\n",
       "  <tbody>\n",
       "    <tr>\n",
       "      <th>0</th>\n",
       "      <td>Tree</td>\n",
       "      <td>0.9718 +/- 0.0079</td>\n",
       "      <td>0.9283 +/- 0.0213</td>\n",
       "      <td>0.8688 +/- 0.0403</td>\n",
       "      <td>0.9168 +/- 0.0279</td>\n",
       "      <td>0.2726s</td>\n",
       "    </tr>\n",
       "    <tr>\n",
       "      <th>1</th>\n",
       "      <td>RF</td>\n",
       "      <td>0.9761 +/- 0.0066</td>\n",
       "      <td>0.9918 +/- 0.0075</td>\n",
       "      <td>0.822 +/- 0.0494</td>\n",
       "      <td>1.0 +/- 0.0</td>\n",
       "      <td>2.3037s</td>\n",
       "    </tr>\n",
       "    <tr>\n",
       "      <th>2</th>\n",
       "      <td>AdaBoost</td>\n",
       "      <td>0.9731 +/- 0.0069</td>\n",
       "      <td>0.9747 +/- 0.0131</td>\n",
       "      <td>0.8434 +/- 0.0406</td>\n",
       "      <td>0.95 +/- 0.0183</td>\n",
       "      <td>2.1023s</td>\n",
       "    </tr>\n",
       "    <tr>\n",
       "      <th>3</th>\n",
       "      <td>SVM</td>\n",
       "      <td>0.8659 +/- 0.0001</td>\n",
       "      <td>0.9846 +/- 0.0088</td>\n",
       "      <td>0.0 +/- 0.0</td>\n",
       "      <td>0.0 +/- 0.0</td>\n",
       "      <td>1.5024s</td>\n",
       "    </tr>\n",
       "    <tr>\n",
       "      <th>4</th>\n",
       "      <td>XGBOOST</td>\n",
       "      <td>0.96 +/- 0.005</td>\n",
       "      <td>0.9756 +/- 0.0108</td>\n",
       "      <td>0.7376 +/- 0.0397</td>\n",
       "      <td>0.954 +/- 0.0207</td>\n",
       "      <td>61.4946s</td>\n",
       "    </tr>\n",
       "    <tr>\n",
       "      <th>5</th>\n",
       "      <td>MLPC</td>\n",
       "      <td>0.9828 +/- 0.0057</td>\n",
       "      <td>0.97 +/- 0.0209</td>\n",
       "      <td>0.8996 +/- 0.035</td>\n",
       "      <td>0.9697 +/- 0.0162</td>\n",
       "      <td>3.6267s</td>\n",
       "    </tr>\n",
       "  </tbody>\n",
       "</table>\n",
       "</div>"
      ],
      "text/plain": [
       "       Name           Accuracy                AUC             Recall  \\\n",
       "0      Tree  0.9718 +/- 0.0079  0.9283 +/- 0.0213  0.8688 +/- 0.0403   \n",
       "1        RF  0.9761 +/- 0.0066  0.9918 +/- 0.0075   0.822 +/- 0.0494   \n",
       "2  AdaBoost  0.9731 +/- 0.0069  0.9747 +/- 0.0131  0.8434 +/- 0.0406   \n",
       "3       SVM  0.8659 +/- 0.0001  0.9846 +/- 0.0088        0.0 +/- 0.0   \n",
       "4   XGBOOST     0.96 +/- 0.005  0.9756 +/- 0.0108  0.7376 +/- 0.0397   \n",
       "5      MLPC  0.9828 +/- 0.0057    0.97 +/- 0.0209   0.8996 +/- 0.035   \n",
       "\n",
       "           Precision      Time  \n",
       "0  0.9168 +/- 0.0279   0.2726s  \n",
       "1        1.0 +/- 0.0   2.3037s  \n",
       "2    0.95 +/- 0.0183   2.1023s  \n",
       "3        0.0 +/- 0.0   1.5024s  \n",
       "4   0.954 +/- 0.0207  61.4946s  \n",
       "5  0.9697 +/- 0.0162   3.6267s  "
      ]
     },
     "execution_count": 9,
     "metadata": {},
     "output_type": "execute_result"
    }
   ],
   "source": [
    "etape1"
   ]
  },
  {
   "cell_type": "markdown",
   "metadata": {},
   "source": [
    "Les resultats pour le SVM ne sont pas significatif concernant Recall et Precision\n",
    "\n",
    "On voit que la précision est globalement très bonne, quand un sms est décrit comme spam le probabilité que ça soit vraiment un spam est élevé par contre \"pas mal\" de spam ne sont pas détécté mais c'est ce qu'on veut, ne pas classifier un sms en spam alors que ça n'en ait pas un"
   ]
  },
  {
   "cell_type": "code",
   "execution_count": 10,
   "metadata": {},
   "outputs": [],
   "source": [
    "vectorizer2 = TfidfVectorizer()\n",
    "X2 = vectorizer2.fit_transform(contenue)"
   ]
  },
  {
   "cell_type": "markdown",
   "metadata": {},
   "source": [
    "O"
   ]
  },
  {
   "cell_type": "code",
   "execution_count": 11,
   "metadata": {},
   "outputs": [
    {
     "name": "stdout",
     "output_type": "stream",
     "text": [
      "Tree commence\n",
      "Tree fini\n",
      "RF commence\n",
      "RF fini\n",
      "AdaBoost commence\n",
      "AdaBoost fini\n",
      "SVM commence\n"
     ]
    },
    {
     "name": "stderr",
     "output_type": "stream",
     "text": [
      "/home/romain/anaconda3/lib/python3.6/site-packages/sklearn/metrics/classification.py:1135: UndefinedMetricWarning: Precision is ill-defined and being set to 0.0 due to no predicted samples.\n",
      "  'precision', 'predicted', average, warn_for)\n",
      "/home/romain/anaconda3/lib/python3.6/site-packages/sklearn/metrics/classification.py:1135: UndefinedMetricWarning: Precision is ill-defined and being set to 0.0 due to no predicted samples.\n",
      "  'precision', 'predicted', average, warn_for)\n",
      "/home/romain/anaconda3/lib/python3.6/site-packages/sklearn/metrics/classification.py:1135: UndefinedMetricWarning: Precision is ill-defined and being set to 0.0 due to no predicted samples.\n",
      "  'precision', 'predicted', average, warn_for)\n"
     ]
    },
    {
     "name": "stdout",
     "output_type": "stream",
     "text": [
      "SVM fini\n",
      "XGBOOST commence\n",
      "XGBOOST fini\n",
      "MLPC commence\n",
      "MLPC fini\n"
     ]
    }
   ],
   "source": [
    "cclfs2=(\n",
    "    ('Tree', DecisionTreeClassifier(random_state=20)),\n",
    "    ('RF', RandomForestClassifier(n_estimators=50, random_state=20)),\n",
    "    ('AdaBoost', AdaBoostClassifier(n_estimators=50, random_state=20)),\n",
    "    ('SVM', SVC()),\n",
    "    ('XGBOOST', XGBClassifier(\n",
    "        n_estimators=50,\n",
    "        seed=20)),\n",
    "    (\"MLPC\", MLPClassifier(hidden_layer_sizes=(20, 10), solver='lbfgs'))\n",
    ")\n",
    "etape2 = run_all_classifier(cclfs2, X2, y)"
   ]
  },
  {
   "cell_type": "code",
   "execution_count": 12,
   "metadata": {},
   "outputs": [
    {
     "data": {
      "text/html": [
       "<div>\n",
       "<style scoped>\n",
       "    .dataframe tbody tr th:only-of-type {\n",
       "        vertical-align: middle;\n",
       "    }\n",
       "\n",
       "    .dataframe tbody tr th {\n",
       "        vertical-align: top;\n",
       "    }\n",
       "\n",
       "    .dataframe thead th {\n",
       "        text-align: right;\n",
       "    }\n",
       "</style>\n",
       "<table border=\"1\" class=\"dataframe\">\n",
       "  <thead>\n",
       "    <tr style=\"text-align: right;\">\n",
       "      <th></th>\n",
       "      <th>Name</th>\n",
       "      <th>Accuracy</th>\n",
       "      <th>AUC</th>\n",
       "      <th>Recall</th>\n",
       "      <th>Precision</th>\n",
       "      <th>Time</th>\n",
       "    </tr>\n",
       "  </thead>\n",
       "  <tbody>\n",
       "    <tr>\n",
       "      <th>0</th>\n",
       "      <td>Tree</td>\n",
       "      <td>0.9681 +/- 0.0037</td>\n",
       "      <td>0.9233 +/- 0.0162</td>\n",
       "      <td>0.8621 +/- 0.0355</td>\n",
       "      <td>0.8973 +/- 0.0283</td>\n",
       "      <td>0.5311s</td>\n",
       "    </tr>\n",
       "    <tr>\n",
       "      <th>1</th>\n",
       "      <td>RF</td>\n",
       "      <td>0.9761 +/- 0.0073</td>\n",
       "      <td>0.9927 +/- 0.0064</td>\n",
       "      <td>0.822 +/- 0.0544</td>\n",
       "      <td>1.0 +/- 0.0</td>\n",
       "      <td>2.3677s</td>\n",
       "    </tr>\n",
       "    <tr>\n",
       "      <th>2</th>\n",
       "      <td>AdaBoost</td>\n",
       "      <td>0.9747 +/- 0.0045</td>\n",
       "      <td>0.976 +/- 0.0114</td>\n",
       "      <td>0.8728 +/- 0.0322</td>\n",
       "      <td>0.9352 +/- 0.0274</td>\n",
       "      <td>2.5343s</td>\n",
       "    </tr>\n",
       "    <tr>\n",
       "      <th>3</th>\n",
       "      <td>SVM</td>\n",
       "      <td>0.8659 +/- 0.0001</td>\n",
       "      <td>0.9893 +/- 0.0058</td>\n",
       "      <td>0.0 +/- 0.0</td>\n",
       "      <td>0.0 +/- 0.0</td>\n",
       "      <td>1.5238s</td>\n",
       "    </tr>\n",
       "    <tr>\n",
       "      <th>4</th>\n",
       "      <td>XGBOOST</td>\n",
       "      <td>0.9643 +/- 0.0053</td>\n",
       "      <td>0.978 +/- 0.0101</td>\n",
       "      <td>0.7644 +/- 0.0364</td>\n",
       "      <td>0.9613 +/- 0.0142</td>\n",
       "      <td>59.0618s</td>\n",
       "    </tr>\n",
       "    <tr>\n",
       "      <th>5</th>\n",
       "      <td>MLPC</td>\n",
       "      <td>0.9817 +/- 0.0047</td>\n",
       "      <td>0.9887 +/- 0.0057</td>\n",
       "      <td>0.8916 +/- 0.035</td>\n",
       "      <td>0.9695 +/- 0.0106</td>\n",
       "      <td>4.0304s</td>\n",
       "    </tr>\n",
       "  </tbody>\n",
       "</table>\n",
       "</div>"
      ],
      "text/plain": [
       "       Name           Accuracy                AUC             Recall  \\\n",
       "0      Tree  0.9681 +/- 0.0037  0.9233 +/- 0.0162  0.8621 +/- 0.0355   \n",
       "1        RF  0.9761 +/- 0.0073  0.9927 +/- 0.0064   0.822 +/- 0.0544   \n",
       "2  AdaBoost  0.9747 +/- 0.0045   0.976 +/- 0.0114  0.8728 +/- 0.0322   \n",
       "3       SVM  0.8659 +/- 0.0001  0.9893 +/- 0.0058        0.0 +/- 0.0   \n",
       "4   XGBOOST  0.9643 +/- 0.0053   0.978 +/- 0.0101  0.7644 +/- 0.0364   \n",
       "5      MLPC  0.9817 +/- 0.0047  0.9887 +/- 0.0057   0.8916 +/- 0.035   \n",
       "\n",
       "           Precision      Time  \n",
       "0  0.8973 +/- 0.0283   0.5311s  \n",
       "1        1.0 +/- 0.0   2.3677s  \n",
       "2  0.9352 +/- 0.0274   2.5343s  \n",
       "3        0.0 +/- 0.0   1.5238s  \n",
       "4  0.9613 +/- 0.0142  59.0618s  \n",
       "5  0.9695 +/- 0.0106   4.0304s  "
      ]
     },
     "execution_count": 12,
     "metadata": {},
     "output_type": "execute_result"
    }
   ],
   "source": [
    "etape2"
   ]
  },
  {
   "cell_type": "markdown",
   "metadata": {},
   "source": [
    "A partir de maintenant on ne considereras plus le SVM\n",
    "\n",
    "Les resultats ne nous semblent pas être significativement différents des précédents"
   ]
  },
  {
   "cell_type": "code",
   "execution_count": 13,
   "metadata": {},
   "outputs": [
    {
     "name": "stdout",
     "output_type": "stream",
     "text": [
      "Tree commence\n",
      "Tree fini\n",
      "RF commence\n",
      "RF fini\n",
      "AdaBoost commence\n",
      "AdaBoost fini\n",
      "XGBOOST commence\n",
      "XGBOOST fini\n",
      "MLPC commence\n",
      "MLPC fini\n"
     ]
    }
   ],
   "source": [
    "svd = TruncatedSVD(n_components=100).fit(X2)\n",
    "X3 = svd.transform(X2)\n",
    "\n",
    "cclfs3=(\n",
    "    ('Tree', DecisionTreeClassifier(random_state=20)),\n",
    "    ('RF', RandomForestClassifier(n_estimators=50, random_state=20)),\n",
    "    ('AdaBoost', AdaBoostClassifier(n_estimators=50, random_state=20)),\n",
    "    ('XGBOOST', XGBClassifier(\n",
    "        n_estimators=50,\n",
    "        seed=20)),\n",
    "    (\"MLPC\", MLPClassifier(hidden_layer_sizes=(20, 10), solver='lbfgs'))\n",
    ")\n",
    "\n",
    "etape3 = run_all_classifier(cclfs3, X3, y)"
   ]
  },
  {
   "cell_type": "code",
   "execution_count": 15,
   "metadata": {},
   "outputs": [
    {
     "data": {
      "text/html": [
       "<div>\n",
       "<style scoped>\n",
       "    .dataframe tbody tr th:only-of-type {\n",
       "        vertical-align: middle;\n",
       "    }\n",
       "\n",
       "    .dataframe tbody tr th {\n",
       "        vertical-align: top;\n",
       "    }\n",
       "\n",
       "    .dataframe thead th {\n",
       "        text-align: right;\n",
       "    }\n",
       "</style>\n",
       "<table border=\"1\" class=\"dataframe\">\n",
       "  <thead>\n",
       "    <tr style=\"text-align: right;\">\n",
       "      <th></th>\n",
       "      <th>Name</th>\n",
       "      <th>Accuracy</th>\n",
       "      <th>AUC</th>\n",
       "      <th>Recall</th>\n",
       "      <th>Precision</th>\n",
       "      <th>Time</th>\n",
       "    </tr>\n",
       "  </thead>\n",
       "  <tbody>\n",
       "    <tr>\n",
       "      <th>0</th>\n",
       "      <td>Tree</td>\n",
       "      <td>0.9535 +/- 0.0071</td>\n",
       "      <td>0.9172 +/- 0.0244</td>\n",
       "      <td>0.8675 +/- 0.0514</td>\n",
       "      <td>0.8035 +/- 0.0319</td>\n",
       "      <td>0.6441s</td>\n",
       "    </tr>\n",
       "    <tr>\n",
       "      <th>1</th>\n",
       "      <td>RF</td>\n",
       "      <td>0.9722 +/- 0.0084</td>\n",
       "      <td>0.9759 +/- 0.0128</td>\n",
       "      <td>0.8032 +/- 0.0582</td>\n",
       "      <td>0.9868 +/- 0.0179</td>\n",
       "      <td>2.0483s</td>\n",
       "    </tr>\n",
       "    <tr>\n",
       "      <th>2</th>\n",
       "      <td>AdaBoost</td>\n",
       "      <td>0.9677 +/- 0.0078</td>\n",
       "      <td>0.9805 +/- 0.0112</td>\n",
       "      <td>0.8635 +/- 0.0355</td>\n",
       "      <td>0.8929 +/- 0.0354</td>\n",
       "      <td>4.112s</td>\n",
       "    </tr>\n",
       "    <tr>\n",
       "      <th>3</th>\n",
       "      <td>XGBOOST</td>\n",
       "      <td>0.969 +/- 0.0093</td>\n",
       "      <td>0.979 +/- 0.0139</td>\n",
       "      <td>0.8286 +/- 0.0544</td>\n",
       "      <td>0.932 +/- 0.0278</td>\n",
       "      <td>10.5702s</td>\n",
       "    </tr>\n",
       "    <tr>\n",
       "      <th>4</th>\n",
       "      <td>MLPC</td>\n",
       "      <td>0.974 +/- 0.0075</td>\n",
       "      <td>0.9821 +/- 0.0081</td>\n",
       "      <td>0.9157 +/- 0.0278</td>\n",
       "      <td>0.894 +/- 0.0358</td>\n",
       "      <td>5.1463s</td>\n",
       "    </tr>\n",
       "  </tbody>\n",
       "</table>\n",
       "</div>"
      ],
      "text/plain": [
       "       Name           Accuracy                AUC             Recall  \\\n",
       "0      Tree  0.9535 +/- 0.0071  0.9172 +/- 0.0244  0.8675 +/- 0.0514   \n",
       "1        RF  0.9722 +/- 0.0084  0.9759 +/- 0.0128  0.8032 +/- 0.0582   \n",
       "2  AdaBoost  0.9677 +/- 0.0078  0.9805 +/- 0.0112  0.8635 +/- 0.0355   \n",
       "3   XGBOOST   0.969 +/- 0.0093   0.979 +/- 0.0139  0.8286 +/- 0.0544   \n",
       "4      MLPC   0.974 +/- 0.0075  0.9821 +/- 0.0081  0.9157 +/- 0.0278   \n",
       "\n",
       "           Precision      Time  \n",
       "0  0.8035 +/- 0.0319   0.6441s  \n",
       "1  0.9868 +/- 0.0179   2.0483s  \n",
       "2  0.8929 +/- 0.0354    4.112s  \n",
       "3   0.932 +/- 0.0278  10.5702s  \n",
       "4   0.894 +/- 0.0358   5.1463s  "
      ]
     },
     "execution_count": 15,
     "metadata": {},
     "output_type": "execute_result"
    }
   ],
   "source": [
    "etape3"
   ]
  },
  {
   "cell_type": "markdown",
   "metadata": {},
   "source": [
    "La metrique Recall semble être légèrement meilleur tandis que Precision légèrement moins bonne, ce qui n'ira pas dans le bon sens, mais cela reste très marginal"
   ]
  },
  {
   "cell_type": "markdown",
   "metadata": {},
   "source": [
    "# Anomalies"
   ]
  },
  {
   "cell_type": "code",
   "execution_count": 19,
   "metadata": {},
   "outputs": [],
   "source": [
    "import matplotlib.pyplot as plt"
   ]
  },
  {
   "cell_type": "code",
   "execution_count": 17,
   "metadata": {},
   "outputs": [],
   "source": [
    "mickey = pd.read_csv(\"mouse.txt\", delimiter=\" \", header=None)"
   ]
  },
  {
   "cell_type": "code",
   "execution_count": 21,
   "metadata": {},
   "outputs": [
    {
     "data": {
      "text/plain": [
       "Text(0.5,1,'Mickey')"
      ]
     },
     "execution_count": 21,
     "metadata": {},
     "output_type": "execute_result"
    },
    {
     "data": {
      "image/png": "[encoded data removed]",
      "text/plain": [
       "<matplotlib.figure.Figure at 0x7f021eec2320>"
      ]
     },
     "metadata": {},
     "output_type": "display_data"
    }
   ],
   "source": [
    "x1 = mickey[0].values\n",
    "x2 = mickey[1].values\n",
    "plt.scatter(x1, x2)\n",
    "plt.title('Mickey')"
   ]
  },
  {
   "cell_type": "code",
   "execution_count": 46,
   "metadata": {},
   "outputs": [],
   "source": [
    "from sklearn.ensemble import IsolationForest\n",
    "clf = IsolationForest(max_samples=50, random_state=20, n_estimators=100)\n",
    "\n",
    "mickey_X = np.array([x1, x2]).T\n",
    "clf.fit(mickey_X)\n",
    "pred = clf.predict(mickey_X)\n",
    "outliers = np.where(pred == -1)"
   ]
  },
  {
   "cell_type": "code",
   "execution_count": 47,
   "metadata": {},
   "outputs": [
    {
     "data": {
      "text/plain": [
       "Text(0.5,1,'Detections outliers mickey')"
      ]
     },
     "execution_count": 47,
     "metadata": {},
     "output_type": "execute_result"
    },
    {
     "data": {
      "image/png": "[encoded data removed]",
      "text/plain": [
       "<matplotlib.figure.Figure at 0x7f021d3cc7f0>"
      ]
     },
     "metadata": {},
     "output_type": "display_data"
    }
   ],
   "source": [
    "plt.scatter(x1, x2, c=pred, edgecolors='g')\n",
    "plt.title('Detections outliers mickey')"
   ]
  },
  {
   "cell_type": "markdown",
   "metadata": {},
   "source": [
    "Par défaut isolationForrest cherche 10% d'outliers dans les données sur lesquelles ils s'entraînent"
   ]
  },
  {
   "cell_type": "code",
   "execution_count": 48,
   "metadata": {},
   "outputs": [
    {
     "data": {
      "text/plain": [
       "(array([490, 491, 492, 493, 494, 495, 496, 497, 498, 499]),)"
      ]
     },
     "execution_count": 48,
     "metadata": {},
     "output_type": "execute_result"
    }
   ],
   "source": [
    "clf_overfitting = IsolationForest(max_samples=500, random_state=20, n_estimators=1000, contamination=.02)\n",
    "clf_overfitting.fit(mickey_X)\n",
    "pred_overfitting = clf_overfitting.predict(mickey_X)\n",
    "outliers_overfitting = np.where(pred_overfitting == -1)\n",
    "outliers_overfitting"
   ]
  },
  {
   "cell_type": "markdown",
   "metadata": {},
   "source": [
    "Connaissant le pourcentage exacte d'outliers, on peut trouver la liste exacte d'outlier dans la base d'apprentissage"
   ]
  },
  {
   "cell_type": "code",
   "execution_count": 50,
   "metadata": {},
   "outputs": [],
   "source": [
    "fraude = pd.read_csv(\"creditcard.csv\")\n",
    "fraude.drop('Time', inplace=True, axis=1)\n",
    "fraude_X = fraude.drop('Class', axis = 1)\n",
    "label = fraude.Class"
   ]
  },
  {
   "cell_type": "code",
   "execution_count": 80,
   "metadata": {},
   "outputs": [],
   "source": [
    "# on choisit de fixer le nombre de fraude à 10, le paramètre par défaut%\n",
    "clf_fraude = IsolationForest(random_state=50, n_jobs=-1)\n",
    "clf_fraude.fit(fraude_X)\n",
    "pred_fraude = clf_fraude.predict(fraude_X)\n",
    "pred_fraude = np.fromiter((int(x == -1) for x in pred_fraude), dtype='int64')"
   ]
  },
  {
   "cell_type": "code",
   "execution_count": 67,
   "metadata": {},
   "outputs": [],
   "source": [
    "from sklearn.metrics import confusion_matrix\n",
    "import itertools"
   ]
  },
  {
   "cell_type": "markdown",
   "metadata": {},
   "source": [
    "Matrice de confusion (source sklearn)"
   ]
  },
  {
   "cell_type": "code",
   "execution_count": 83,
   "metadata": {},
   "outputs": [],
   "source": [
    "\n",
    "def plot_confusion_matrix(cm, classes,\n",
    "                          normalize=False,\n",
    "                          title='Confusion matrix',\n",
    "                          cmap=plt.cm.Blues):\n",
    "    \"\"\"\n",
    "    This function prints and plots the confusion matrix.\n",
    "    Normalization can be applied by setting `normalize=True`.\n",
    "    \"\"\"\n",
    "    if normalize:\n",
    "        cm = cm.astype('float') / cm.sum(axis=1)[:, np.newaxis]\n",
    "        print(\"Normalized confusion matrix\")\n",
    "    else:\n",
    "        print('Confusion matrix, without normalization')\n",
    "\n",
    "    print(cm)\n",
    "\n",
    "    plt.imshow(cm, interpolation='nearest', cmap=cmap)\n",
    "    plt.title(title)\n",
    "    plt.colorbar()\n",
    "    tick_marks = np.arange(len(classes))\n",
    "    plt.xticks(tick_marks, classes, rotation=45)\n",
    "    plt.yticks(tick_marks, classes)\n",
    "\n",
    "    fmt = '.2f' if normalize else 'd'\n",
    "    thresh = cm.max() / 2.\n",
    "    for i, j in itertools.product(range(cm.shape[0]), range(cm.shape[1])):\n",
    "        plt.text(j, i, format(cm[i, j], fmt),\n",
    "                 horizontalalignment=\"center\",\n",
    "                 color=\"white\" if cm[i, j] > thresh else \"black\")\n",
    "\n",
    "    plt.tight_layout()\n",
    "    plt.ylabel('True label')\n",
    "    plt.xlabel('Predicted label')\n",
    "\n"
   ]
  },
  {
   "cell_type": "code",
   "execution_count": 84,
   "metadata": {},
   "outputs": [
    {
     "name": "stdout",
     "output_type": "stream",
     "text": [
      "Normalized confusion matrix\n",
      "[[ 0.9   0.1 ]\n",
      " [ 0.13  0.87]]\n"
     ]
    },
    {
     "data": {
      "image/png": "[encoded data removed]",
      "text/plain": [
       "<matplotlib.figure.Figure at 0x7f02190b9a90>"
      ]
     },
     "metadata": {},
     "output_type": "display_data"
    }
   ],
   "source": [
    "class_names = ['pas fraude', 'fraude']\n",
    "cnf_matrix = confusion_matrix(label, pred_fraude)\n",
    "np.set_printoptions(precision=2)\n",
    "\n",
    "plt.figure()\n",
    "plot_confusion_matrix(cnf_matrix, classes=class_names, normalize=True,\n",
    "                      title='matrice de confusion sur les fraudes')\n",
    "\n",
    "plt.show()"
   ]
  },
  {
   "cell_type": "markdown",
   "metadata": {},
   "source": [
    "On voit que si on dit \"fraude\" alors il y a que 10% de faux positifs donc on se trompe rarement, de plus, on ne loupe que 13% des fraudes ce qui est selon nous le critère le plus important dans la recherche de fraude, en effet il est moins coûteux de demander si il y a fraude et se tromper plutôt que d'avoir une fraude passée inaperçue"
   ]
  },
  {
   "cell_type": "code",
   "execution_count": 90,
   "metadata": {},
   "outputs": [],
   "source": [
    "np.random.seed(50)\n",
    "sms_spam = np.where(y == 1)[0]\n",
    "sms_ham = np.where(y == 0)[0]\n",
    "index_ham_fifty = np.random.choice(sms_ham, len(sms_ham)//2, replace=False)\n",
    "index_spam_20 = np.random.choice(sms_spam, 20, replace=False)"
   ]
  },
  {
   "cell_type": "code",
   "execution_count": 150,
   "metadata": {},
   "outputs": [],
   "source": [
    "index_data = np.concatenate((index_ham_fifty ,index_spam_20))\n",
    "np.random.shuffle(index_data)\n",
    "X_spam_outlier = X3[index_data]\n",
    "y_spam_outlier = y[index_data]"
   ]
  },
  {
   "cell_type": "code",
   "execution_count": 164,
   "metadata": {},
   "outputs": [],
   "source": [
    "clf_spam = IsolationForest(random_state=50, n_jobs=-1)\n",
    "clf_spam.fit(X_spam_outlier)\n",
    "pred_spam = clf_spam.predict(X_spam_outlier)\n",
    "pred_spam = np.fromiter((int(x == -1) for x in pred_spam), dtype='int64')"
   ]
  },
  {
   "cell_type": "code",
   "execution_count": 165,
   "metadata": {},
   "outputs": [
    {
     "name": "stdout",
     "output_type": "stream",
     "text": [
      "Normalized confusion matrix\n",
      "[[ 0.9   0.1 ]\n",
      " [ 0.85  0.15]]\n"
     ]
    },
    {
     "data": {
      "image/png": "[encoded data removed]",
      "text/plain": [
       "<matplotlib.figure.Figure at 0x7f0218f73160>"
      ]
     },
     "metadata": {},
     "output_type": "display_data"
    }
   ],
   "source": [
    "class_names = ['ham', 'spam']\n",
    "cnf_matrix = confusion_matrix(y_spam_outlier, pred_spam)\n",
    "np.set_printoptions(precision=2)\n",
    "\n",
    "plt.figure()\n",
    "plot_confusion_matrix(cnf_matrix, classes=class_names, normalize=True,\n",
    "                      title='matrice de confusion sur les fraudes')\n",
    "\n",
    "plt.show()"
   ]
  },
  {
   "cell_type": "markdown",
   "metadata": {},
   "source": [
    "On voit qu'on ne détecte presque rien ici, cette méthode n'a pas l'air adaptée à la classification de spam"
   ]
  }
 ],
 "metadata": {
  "kernelspec": {
   "display_name": "Python 3",
   "language": "python",
   "name": "python3"
  },
  "language_info": {
   "codemirror_mode": {
    "name": "ipython",
    "version": 3
   },
   "file_extension": ".py",
   "mimetype": "text/x-python",
   "name": "python",
   "nbconvert_exporter": "python",
   "pygments_lexer": "ipython3",
   "version": "3.6.4"
  }
 },
 "nbformat": 4,
 "nbformat_minor": 2
}
