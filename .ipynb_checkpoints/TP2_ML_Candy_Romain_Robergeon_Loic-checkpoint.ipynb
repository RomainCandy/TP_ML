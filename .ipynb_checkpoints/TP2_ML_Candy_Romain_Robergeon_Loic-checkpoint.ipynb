{
 "cells": [
  {
   "cell_type": "code",
   "execution_count": 1,
   "metadata": {},
   "outputs": [],
   "source": [
    "import numpy as np\n",
    "import pandas as pd\n",
    "import warnings\n",
    "warnings.filterwarnings('ignore')\n",
    "import matplotlib.pyplot as plt"
   ]
  },
  {
   "cell_type": "markdown",
   "metadata": {},
   "source": [
    "Préparation des données numériques"
   ]
  },
  {
   "cell_type": "code",
   "execution_count": 2,
   "metadata": {},
   "outputs": [],
   "source": [
    "def get_value(s):\n",
    "    if s == '+':\n",
    "        return 1\n",
    "    return 0\n",
    "\n",
    "credit = pd.read_csv('credit.data', delimiter='\\t', header=None, decimal='.')\n",
    "credit.dropna(thresh=0, inplace=True)\n",
    "credit[15] = credit[15].map(get_value)\n",
    "credit_num = credit.ix[:,(1, 2, 7, 10, 13, 14, 15)]\n",
    "for col in credit_num.columns:\n",
    "    credit_num[col] = pd.to_numeric(credit_num[col], errors='coerce')\n",
    "\n",
    "credit_num.dropna(inplace=True)\n",
    "credit_label = credit_num.loc[:,15]\n",
    "credit_X_num = credit_num.loc[:,(1, 2, 7, 10, 13, 14)]\n",
    "credit_X_num[10] = credit_X_num[10].astype('float64')\n",
    "credit_X_num[14] = credit_X_num[14].astype('float64')"
   ]
  },
  {
   "cell_type": "markdown",
   "metadata": {},
   "source": [
    "Descriptions des données par colonne"
   ]
  },
  {
   "cell_type": "code",
   "execution_count": 5,
   "metadata": {},
   "outputs": [
    {
     "data": {
      "text/html": [
       "<div>\n",
       "<style scoped>\n",
       "    .dataframe tbody tr th:only-of-type {\n",
       "        vertical-align: middle;\n",
       "    }\n",
       "\n",
       "    .dataframe tbody tr th {\n",
       "        vertical-align: top;\n",
       "    }\n",
       "\n",
       "    .dataframe thead th {\n",
       "        text-align: right;\n",
       "    }\n",
       "</style>\n",
       "<table border=\"1\" class=\"dataframe\">\n",
       "  <thead>\n",
       "    <tr style=\"text-align: right;\">\n",
       "      <th></th>\n",
       "      <th>1</th>\n",
       "      <th>2</th>\n",
       "      <th>7</th>\n",
       "      <th>10</th>\n",
       "      <th>13</th>\n",
       "      <th>14</th>\n",
       "    </tr>\n",
       "  </thead>\n",
       "  <tbody>\n",
       "    <tr>\n",
       "      <th>count</th>\n",
       "      <td>666.000000</td>\n",
       "      <td>666.000000</td>\n",
       "      <td>666.000000</td>\n",
       "      <td>666.000000</td>\n",
       "      <td>666.000000</td>\n",
       "      <td>666.000000</td>\n",
       "    </tr>\n",
       "    <tr>\n",
       "      <th>mean</th>\n",
       "      <td>31.569054</td>\n",
       "      <td>4.798078</td>\n",
       "      <td>2.222320</td>\n",
       "      <td>2.459459</td>\n",
       "      <td>182.115616</td>\n",
       "      <td>998.584084</td>\n",
       "    </tr>\n",
       "    <tr>\n",
       "      <th>std</th>\n",
       "      <td>11.920174</td>\n",
       "      <td>5.005309</td>\n",
       "      <td>3.347599</td>\n",
       "      <td>4.929794</td>\n",
       "      <td>171.477919</td>\n",
       "      <td>5202.975198</td>\n",
       "    </tr>\n",
       "    <tr>\n",
       "      <th>min</th>\n",
       "      <td>13.750000</td>\n",
       "      <td>0.000000</td>\n",
       "      <td>0.000000</td>\n",
       "      <td>0.000000</td>\n",
       "      <td>0.000000</td>\n",
       "      <td>0.000000</td>\n",
       "    </tr>\n",
       "    <tr>\n",
       "      <th>25%</th>\n",
       "      <td>22.602500</td>\n",
       "      <td>1.010000</td>\n",
       "      <td>0.165000</td>\n",
       "      <td>0.000000</td>\n",
       "      <td>75.250000</td>\n",
       "      <td>0.000000</td>\n",
       "    </tr>\n",
       "    <tr>\n",
       "      <th>50%</th>\n",
       "      <td>28.500000</td>\n",
       "      <td>2.750000</td>\n",
       "      <td>1.000000</td>\n",
       "      <td>0.000000</td>\n",
       "      <td>160.000000</td>\n",
       "      <td>5.000000</td>\n",
       "    </tr>\n",
       "    <tr>\n",
       "      <th>75%</th>\n",
       "      <td>38.250000</td>\n",
       "      <td>7.207500</td>\n",
       "      <td>2.585000</td>\n",
       "      <td>3.000000</td>\n",
       "      <td>271.000000</td>\n",
       "      <td>399.000000</td>\n",
       "    </tr>\n",
       "    <tr>\n",
       "      <th>max</th>\n",
       "      <td>80.250000</td>\n",
       "      <td>28.000000</td>\n",
       "      <td>28.500000</td>\n",
       "      <td>67.000000</td>\n",
       "      <td>2000.000000</td>\n",
       "      <td>100000.000000</td>\n",
       "    </tr>\n",
       "  </tbody>\n",
       "</table>\n",
       "</div>"
      ],
      "text/plain": [
       "               1           2           7           10           13  \\\n",
       "count  666.000000  666.000000  666.000000  666.000000   666.000000   \n",
       "mean    31.569054    4.798078    2.222320    2.459459   182.115616   \n",
       "std     11.920174    5.005309    3.347599    4.929794   171.477919   \n",
       "min     13.750000    0.000000    0.000000    0.000000     0.000000   \n",
       "25%     22.602500    1.010000    0.165000    0.000000    75.250000   \n",
       "50%     28.500000    2.750000    1.000000    0.000000   160.000000   \n",
       "75%     38.250000    7.207500    2.585000    3.000000   271.000000   \n",
       "max     80.250000   28.000000   28.500000   67.000000  2000.000000   \n",
       "\n",
       "                  14  \n",
       "count     666.000000  \n",
       "mean      998.584084  \n",
       "std      5202.975198  \n",
       "min         0.000000  \n",
       "25%         0.000000  \n",
       "50%         5.000000  \n",
       "75%       399.000000  \n",
       "max    100000.000000  "
      ]
     },
     "execution_count": 5,
     "metadata": {},
     "output_type": "execute_result"
    }
   ],
   "source": [
    "credit_X_num.describe()"
   ]
  },
  {
   "cell_type": "markdown",
   "metadata": {},
   "source": [
    "Répartition des + et - dans la base d'apprentissage"
   ]
  },
  {
   "cell_type": "code",
   "execution_count": 6,
   "metadata": {},
   "outputs": [
    {
     "data": {
      "text/plain": [
       "<matplotlib.axes._subplots.AxesSubplot at 0x7f7e6436ad30>"
      ]
     },
     "execution_count": 6,
     "metadata": {},
     "output_type": "execute_result"
    },
    {
     "data": {
      "image/png": "[encoded data removed]",
      "text/plain": [
       "<matplotlib.figure.Figure at 0x7f7e6436a6d8>"
      ]
     },
     "metadata": {},
     "output_type": "display_data"
    }
   ],
   "source": [
    "oui = credit_label[credit_label == 1].value_counts()\n",
    "non = credit_label[credit_label == 0].value_counts()\n",
    "df = pd.DataFrame([oui, non])\n",
    "df.index = ['oui','non']\n",
    "df.plot(kind='bar', stacked=True, figsize=(15,8))"
   ]
  },
  {
   "cell_type": "code",
   "execution_count": 3,
   "metadata": {},
   "outputs": [
    {
     "name": "stderr",
     "output_type": "stream",
     "text": [
      "/home/romain/anaconda3/lib/python3.6/site-packages/sklearn/cross_validation.py:41: DeprecationWarning: This module was deprecated in version 0.18 in favor of the model_selection module into which all the refactored classes and functions are moved. Also note that the interface of the new CV iterators are different from that of this module. This module will be removed in 0.20.\n",
      "  \"This module will be removed in 0.20.\", DeprecationWarning)\n"
     ]
    }
   ],
   "source": [
    "from sklearn.ensemble import BaggingClassifier, AdaBoostClassifier, RandomForestClassifier\n",
    "from sklearn.tree import DecisionTreeClassifier\n",
    "from sklearn.neural_network import MLPClassifier\n",
    "from sklearn.svm import SVC\n",
    "from xgboost.sklearn import XGBClassifier\n",
    "from sklearn.model_selection import KFold, cross_validate\n",
    "from sklearn.neighbors import KNeighborsClassifier\n",
    "from sklearn.metrics import roc_auc_score, recall_score, precision_score\n",
    "from sklearn.preprocessing import StandardScaler\n",
    "from sklearn.decomposition import PCA"
   ]
  },
  {
   "cell_type": "markdown",
   "metadata": {},
   "source": [
    "fonction pour la partie séléction de variable"
   ]
  },
  {
   "cell_type": "code",
   "execution_count": 4,
   "metadata": {},
   "outputs": [],
   "source": [
    "def ajout_PCA(X, min_acp=.7, replace=False):\n",
    "    res = list()\n",
    "    nb_component = 0\n",
    "    while sum(res)<min_acp:\n",
    "        nb_component += 1\n",
    "        pca = PCA(n_components=nb_component)\n",
    "        pca.fit_transform(X)\n",
    "        res = pca.explained_variance_ratio_\n",
    "    pca = PCA(n_components=nb_component)\n",
    "    if replace:\n",
    "        return pca.fit_transform(X)\n",
    "    else:\n",
    "        ajout = pca.fit_transform(X)\n",
    "        X = np.concatenate((X, ajout), axis=1)\n",
    "    return X"
   ]
  },
  {
   "cell_type": "markdown",
   "metadata": {},
   "source": [
    "fonction qui compare tout les modèles passés en argument"
   ]
  },
  {
   "cell_type": "code",
   "execution_count": 5,
   "metadata": {},
   "outputs": [],
   "source": [
    "def run_classifiers(clfs, X, y, kf, standardisation=False, engineering=False, replace=False, min_acp=.7):\n",
    "    if not standardisation and engineering:\n",
    "        raise AttributeError('you have to scale if you want to add pca variables')\n",
    "    if standardisation:\n",
    "        scaler = StandardScaler()\n",
    "        X = scaler.fit_transform(X)\n",
    "        \n",
    "    if engineering:\n",
    "        X = ajout_PCA(X, min_acp, replace)\n",
    "    r = list()\n",
    "    for name, clf in clfs.items():\n",
    "        \n",
    "        cv_acc = cross_validate(clf, X, y, cv=kf, scoring=('accuracy', 'roc_auc', 'recall', 'precision'))\n",
    "        r.append([name,\n",
    "                  str(np.round(np.mean(cv_acc['test_accuracy']),4)) + ' +/- ' + str(np.round(np.std(cv_acc['test_accuracy']),4)),\n",
    "                  str(np.round(np.mean(cv_acc['test_roc_auc']),4)) + ' +/- ' + str(np.round(np.std(cv_acc['test_roc_auc']),4)),\n",
    "                  str(np.round(np.mean(cv_acc['test_recall']),4)) + ' +/- ' + str(np.round(np.std(cv_acc['test_recall']),4)),\n",
    "                  str(np.round(np.mean(cv_acc['test_precision']),4)) + ' +/- ' + str(np.round(np.std(cv_acc['test_precision']),4)),\n",
    "                  str(np.round(np.mean(cv_acc['fit_time']),4)) + 's'])\n",
    "    res = pd.DataFrame(r)\n",
    "    res.columns = ['Name', 'Accuracy', 'AUC','Recall','Precision', 'Time']\n",
    "    return res"
   ]
  },
  {
   "cell_type": "markdown",
   "metadata": {},
   "source": [
    "Tous les modèles que l'on va comparer (on a fixé random_state pour pouvoir repreoduire les mêmes réusltats)"
   ]
  },
  {
   "cell_type": "code",
   "execution_count": 8,
   "metadata": {},
   "outputs": [],
   "source": [
    "clfs={\n",
    "'Tree': DecisionTreeClassifier(random_state=20),\n",
    "'RF': RandomForestClassifier(n_estimators=50, random_state=20),\n",
    "'Bagg': BaggingClassifier(n_estimators=50, random_state=20),\n",
    "'KNN': KNeighborsClassifier(n_neighbors=1),\n",
    "'AdaBoost': AdaBoostClassifier(n_estimators=50, random_state=20),\n",
    "'SVM': SVC(),\n",
    "'XGBOOST': XGBClassifier(\n",
    " n_estimators=50,\n",
    " seed=20),\n",
    "\"MLPC\": MLPClassifier(hidden_layer_sizes=(20, 10))\n",
    "}\n",
    "\n",
    "kf = KFold(n_splits=10, shuffle=True, random_state=20)"
   ]
  },
  {
   "cell_type": "markdown",
   "metadata": {},
   "source": [
    "Sans normalisation"
   ]
  },
  {
   "cell_type": "code",
   "execution_count": 21,
   "metadata": {},
   "outputs": [
    {
     "data": {
      "text/html": [
       "<div>\n",
       "<style scoped>\n",
       "    .dataframe tbody tr th:only-of-type {\n",
       "        vertical-align: middle;\n",
       "    }\n",
       "\n",
       "    .dataframe tbody tr th {\n",
       "        vertical-align: top;\n",
       "    }\n",
       "\n",
       "    .dataframe thead th {\n",
       "        text-align: right;\n",
       "    }\n",
       "</style>\n",
       "<table border=\"1\" class=\"dataframe\">\n",
       "  <thead>\n",
       "    <tr style=\"text-align: right;\">\n",
       "      <th></th>\n",
       "      <th>Name</th>\n",
       "      <th>Accuracy</th>\n",
       "      <th>AUC</th>\n",
       "      <th>Recall</th>\n",
       "      <th>Precision</th>\n",
       "      <th>Time</th>\n",
       "    </tr>\n",
       "  </thead>\n",
       "  <tbody>\n",
       "    <tr>\n",
       "      <th>0</th>\n",
       "      <td>Tree</td>\n",
       "      <td>0.6923 +/- 0.0474</td>\n",
       "      <td>0.6921 +/- 0.0493</td>\n",
       "      <td>0.6552 +/- 0.0911</td>\n",
       "      <td>0.6612 +/- 0.0612</td>\n",
       "      <td>0.0031s</td>\n",
       "    </tr>\n",
       "    <tr>\n",
       "      <th>1</th>\n",
       "      <td>RF</td>\n",
       "      <td>0.7839 +/- 0.061</td>\n",
       "      <td>0.85 +/- 0.0588</td>\n",
       "      <td>0.7214 +/- 0.1066</td>\n",
       "      <td>0.792 +/- 0.1082</td>\n",
       "      <td>0.0734s</td>\n",
       "    </tr>\n",
       "    <tr>\n",
       "      <th>2</th>\n",
       "      <td>Bagg</td>\n",
       "      <td>0.7733 +/- 0.0607</td>\n",
       "      <td>0.8476 +/- 0.053</td>\n",
       "      <td>0.695 +/- 0.1175</td>\n",
       "      <td>0.7917 +/- 0.1162</td>\n",
       "      <td>0.0956s</td>\n",
       "    </tr>\n",
       "    <tr>\n",
       "      <th>3</th>\n",
       "      <td>KNN</td>\n",
       "      <td>0.6563 +/- 0.0547</td>\n",
       "      <td>0.6501 +/- 0.0608</td>\n",
       "      <td>0.5659 +/- 0.1179</td>\n",
       "      <td>0.6289 +/- 0.0937</td>\n",
       "      <td>0.001s</td>\n",
       "    </tr>\n",
       "    <tr>\n",
       "      <th>4</th>\n",
       "      <td>AdaBoost</td>\n",
       "      <td>0.7763 +/- 0.0491</td>\n",
       "      <td>0.8532 +/- 0.0431</td>\n",
       "      <td>0.7191 +/- 0.1143</td>\n",
       "      <td>0.7796 +/- 0.0949</td>\n",
       "      <td>0.0691s</td>\n",
       "    </tr>\n",
       "    <tr>\n",
       "      <th>5</th>\n",
       "      <td>SVM</td>\n",
       "      <td>0.5464 +/- 0.0458</td>\n",
       "      <td>0.6702 +/- 0.0599</td>\n",
       "      <td>0.0308 +/- 0.0245</td>\n",
       "      <td>0.365 +/- 0.2984</td>\n",
       "      <td>0.0137s</td>\n",
       "    </tr>\n",
       "    <tr>\n",
       "      <th>6</th>\n",
       "      <td>XGBOOST</td>\n",
       "      <td>0.7913 +/- 0.047</td>\n",
       "      <td>0.8637 +/- 0.0453</td>\n",
       "      <td>0.7088 +/- 0.1019</td>\n",
       "      <td>0.8136 +/- 0.0837</td>\n",
       "      <td>0.016s</td>\n",
       "    </tr>\n",
       "    <tr>\n",
       "      <th>7</th>\n",
       "      <td>MLPC</td>\n",
       "      <td>0.6443 +/- 0.0984</td>\n",
       "      <td>0.6621 +/- 0.1362</td>\n",
       "      <td>0.6014 +/- 0.2158</td>\n",
       "      <td>0.6225 +/- 0.1371</td>\n",
       "      <td>0.0412s</td>\n",
       "    </tr>\n",
       "  </tbody>\n",
       "</table>\n",
       "</div>"
      ],
      "text/plain": [
       "       Name           Accuracy                AUC             Recall  \\\n",
       "0      Tree  0.6923 +/- 0.0474  0.6921 +/- 0.0493  0.6552 +/- 0.0911   \n",
       "1        RF   0.7839 +/- 0.061    0.85 +/- 0.0588  0.7214 +/- 0.1066   \n",
       "2      Bagg  0.7733 +/- 0.0607   0.8476 +/- 0.053   0.695 +/- 0.1175   \n",
       "3       KNN  0.6563 +/- 0.0547  0.6501 +/- 0.0608  0.5659 +/- 0.1179   \n",
       "4  AdaBoost  0.7763 +/- 0.0491  0.8532 +/- 0.0431  0.7191 +/- 0.1143   \n",
       "5       SVM  0.5464 +/- 0.0458  0.6702 +/- 0.0599  0.0308 +/- 0.0245   \n",
       "6   XGBOOST   0.7913 +/- 0.047  0.8637 +/- 0.0453  0.7088 +/- 0.1019   \n",
       "7      MLPC  0.6443 +/- 0.0984  0.6621 +/- 0.1362  0.6014 +/- 0.2158   \n",
       "\n",
       "           Precision     Time  \n",
       "0  0.6612 +/- 0.0612  0.0031s  \n",
       "1   0.792 +/- 0.1082  0.0734s  \n",
       "2  0.7917 +/- 0.1162  0.0956s  \n",
       "3  0.6289 +/- 0.0937   0.001s  \n",
       "4  0.7796 +/- 0.0949  0.0691s  \n",
       "5   0.365 +/- 0.2984  0.0137s  \n",
       "6  0.8136 +/- 0.0837   0.016s  \n",
       "7  0.6225 +/- 0.1371  0.0412s  "
      ]
     },
     "execution_count": 21,
     "metadata": {},
     "output_type": "execute_result"
    }
   ],
   "source": [
    "run_classifiers(clfs, credit_X_num, credit_label, kf)"
   ]
  },
  {
   "cell_type": "markdown",
   "metadata": {},
   "source": [
    "On voit que le SVM ne fonctionne pas très bien sans normalisation.\n",
    "On voit aussi que les methodes ensemblistes semblent bien fonctionner sans avoir encore cherché les \"meilleurs\" hyperparamètres"
   ]
  },
  {
   "cell_type": "code",
   "execution_count": 22,
   "metadata": {},
   "outputs": [
    {
     "data": {
      "text/html": [
       "<div>\n",
       "<style scoped>\n",
       "    .dataframe tbody tr th:only-of-type {\n",
       "        vertical-align: middle;\n",
       "    }\n",
       "\n",
       "    .dataframe tbody tr th {\n",
       "        vertical-align: top;\n",
       "    }\n",
       "\n",
       "    .dataframe thead th {\n",
       "        text-align: right;\n",
       "    }\n",
       "</style>\n",
       "<table border=\"1\" class=\"dataframe\">\n",
       "  <thead>\n",
       "    <tr style=\"text-align: right;\">\n",
       "      <th></th>\n",
       "      <th>Name</th>\n",
       "      <th>Accuracy</th>\n",
       "      <th>AUC</th>\n",
       "      <th>Recall</th>\n",
       "      <th>Precision</th>\n",
       "      <th>Time</th>\n",
       "    </tr>\n",
       "  </thead>\n",
       "  <tbody>\n",
       "    <tr>\n",
       "      <th>0</th>\n",
       "      <td>Tree</td>\n",
       "      <td>0.6908 +/- 0.048</td>\n",
       "      <td>0.6905 +/- 0.0497</td>\n",
       "      <td>0.6552 +/- 0.0911</td>\n",
       "      <td>0.6582 +/- 0.057</td>\n",
       "      <td>0.0025s</td>\n",
       "    </tr>\n",
       "    <tr>\n",
       "      <th>1</th>\n",
       "      <td>RF</td>\n",
       "      <td>0.7839 +/- 0.061</td>\n",
       "      <td>0.8496 +/- 0.058</td>\n",
       "      <td>0.7214 +/- 0.1066</td>\n",
       "      <td>0.792 +/- 0.1082</td>\n",
       "      <td>0.0725s</td>\n",
       "    </tr>\n",
       "    <tr>\n",
       "      <th>2</th>\n",
       "      <td>Bagg</td>\n",
       "      <td>0.7749 +/- 0.0597</td>\n",
       "      <td>0.8479 +/- 0.0525</td>\n",
       "      <td>0.698 +/- 0.1152</td>\n",
       "      <td>0.7923 +/- 0.1165</td>\n",
       "      <td>0.0957s</td>\n",
       "    </tr>\n",
       "    <tr>\n",
       "      <th>3</th>\n",
       "      <td>KNN</td>\n",
       "      <td>0.7163 +/- 0.0298</td>\n",
       "      <td>0.7172 +/- 0.0314</td>\n",
       "      <td>0.6696 +/- 0.1089</td>\n",
       "      <td>0.7027 +/- 0.0777</td>\n",
       "      <td>0.0006s</td>\n",
       "    </tr>\n",
       "    <tr>\n",
       "      <th>4</th>\n",
       "      <td>AdaBoost</td>\n",
       "      <td>0.7763 +/- 0.0491</td>\n",
       "      <td>0.8532 +/- 0.0431</td>\n",
       "      <td>0.7191 +/- 0.1143</td>\n",
       "      <td>0.7796 +/- 0.0949</td>\n",
       "      <td>0.0692s</td>\n",
       "    </tr>\n",
       "    <tr>\n",
       "      <th>5</th>\n",
       "      <td>SVM</td>\n",
       "      <td>0.7688 +/- 0.0633</td>\n",
       "      <td>0.8444 +/- 0.0489</td>\n",
       "      <td>0.6118 +/- 0.1108</td>\n",
       "      <td>0.844 +/- 0.0967</td>\n",
       "      <td>0.01s</td>\n",
       "    </tr>\n",
       "    <tr>\n",
       "      <th>6</th>\n",
       "      <td>XGBOOST</td>\n",
       "      <td>0.7928 +/- 0.0468</td>\n",
       "      <td>0.8638 +/- 0.0454</td>\n",
       "      <td>0.7088 +/- 0.1019</td>\n",
       "      <td>0.817 +/- 0.0812</td>\n",
       "      <td>0.0108s</td>\n",
       "    </tr>\n",
       "    <tr>\n",
       "      <th>7</th>\n",
       "      <td>MLPC</td>\n",
       "      <td>0.7869 +/- 0.066</td>\n",
       "      <td>0.8479 +/- 0.0501</td>\n",
       "      <td>0.6905 +/- 0.113</td>\n",
       "      <td>0.812 +/- 0.0806</td>\n",
       "      <td>0.2895s</td>\n",
       "    </tr>\n",
       "  </tbody>\n",
       "</table>\n",
       "</div>"
      ],
      "text/plain": [
       "       Name           Accuracy                AUC             Recall  \\\n",
       "0      Tree   0.6908 +/- 0.048  0.6905 +/- 0.0497  0.6552 +/- 0.0911   \n",
       "1        RF   0.7839 +/- 0.061   0.8496 +/- 0.058  0.7214 +/- 0.1066   \n",
       "2      Bagg  0.7749 +/- 0.0597  0.8479 +/- 0.0525   0.698 +/- 0.1152   \n",
       "3       KNN  0.7163 +/- 0.0298  0.7172 +/- 0.0314  0.6696 +/- 0.1089   \n",
       "4  AdaBoost  0.7763 +/- 0.0491  0.8532 +/- 0.0431  0.7191 +/- 0.1143   \n",
       "5       SVM  0.7688 +/- 0.0633  0.8444 +/- 0.0489  0.6118 +/- 0.1108   \n",
       "6   XGBOOST  0.7928 +/- 0.0468  0.8638 +/- 0.0454  0.7088 +/- 0.1019   \n",
       "7      MLPC   0.7869 +/- 0.066  0.8479 +/- 0.0501   0.6905 +/- 0.113   \n",
       "\n",
       "           Precision     Time  \n",
       "0   0.6582 +/- 0.057  0.0025s  \n",
       "1   0.792 +/- 0.1082  0.0725s  \n",
       "2  0.7923 +/- 0.1165  0.0957s  \n",
       "3  0.7027 +/- 0.0777  0.0006s  \n",
       "4  0.7796 +/- 0.0949  0.0692s  \n",
       "5   0.844 +/- 0.0967    0.01s  \n",
       "6   0.817 +/- 0.0812  0.0108s  \n",
       "7   0.812 +/- 0.0806  0.2895s  "
      ]
     },
     "execution_count": 22,
     "metadata": {},
     "output_type": "execute_result"
    }
   ],
   "source": [
    "run_classifiers(clfs, credit_X_num, credit_label, kf, standardisation=True)"
   ]
  },
  {
   "cell_type": "markdown",
   "metadata": {},
   "source": [
    "On voit qu'après normalisation, MLPC, SVM et KNN performent bien mieux que sans alors que pour les méthodes ensemblistes et l'arbre de décision, cela n'a rien changé de manière significative"
   ]
  },
  {
   "cell_type": "code",
   "execution_count": 25,
   "metadata": {},
   "outputs": [
    {
     "data": {
      "text/html": [
       "<div>\n",
       "<style scoped>\n",
       "    .dataframe tbody tr th:only-of-type {\n",
       "        vertical-align: middle;\n",
       "    }\n",
       "\n",
       "    .dataframe tbody tr th {\n",
       "        vertical-align: top;\n",
       "    }\n",
       "\n",
       "    .dataframe thead th {\n",
       "        text-align: right;\n",
       "    }\n",
       "</style>\n",
       "<table border=\"1\" class=\"dataframe\">\n",
       "  <thead>\n",
       "    <tr style=\"text-align: right;\">\n",
       "      <th></th>\n",
       "      <th>Name</th>\n",
       "      <th>Accuracy</th>\n",
       "      <th>AUC</th>\n",
       "      <th>Recall</th>\n",
       "      <th>Precision</th>\n",
       "      <th>Time</th>\n",
       "    </tr>\n",
       "  </thead>\n",
       "  <tbody>\n",
       "    <tr>\n",
       "      <th>0</th>\n",
       "      <td>Tree</td>\n",
       "      <td>0.6653 +/- 0.0626</td>\n",
       "      <td>0.669 +/- 0.0658</td>\n",
       "      <td>0.644 +/- 0.1329</td>\n",
       "      <td>0.6306 +/- 0.085</td>\n",
       "      <td>0.0032s</td>\n",
       "    </tr>\n",
       "    <tr>\n",
       "      <th>1</th>\n",
       "      <td>RF</td>\n",
       "      <td>0.7209 +/- 0.0574</td>\n",
       "      <td>0.7973 +/- 0.053</td>\n",
       "      <td>0.6516 +/- 0.1205</td>\n",
       "      <td>0.7164 +/- 0.0858</td>\n",
       "      <td>0.0802s</td>\n",
       "    </tr>\n",
       "    <tr>\n",
       "      <th>2</th>\n",
       "      <td>Bagg</td>\n",
       "      <td>0.718 +/- 0.0593</td>\n",
       "      <td>0.7893 +/- 0.0431</td>\n",
       "      <td>0.6334 +/- 0.1073</td>\n",
       "      <td>0.7169 +/- 0.1001</td>\n",
       "      <td>0.0958s</td>\n",
       "    </tr>\n",
       "    <tr>\n",
       "      <th>3</th>\n",
       "      <td>KNN</td>\n",
       "      <td>0.7073 +/- 0.0554</td>\n",
       "      <td>0.7097 +/- 0.0546</td>\n",
       "      <td>0.6579 +/- 0.1069</td>\n",
       "      <td>0.6966 +/- 0.1097</td>\n",
       "      <td>0.0005s</td>\n",
       "    </tr>\n",
       "    <tr>\n",
       "      <th>4</th>\n",
       "      <td>AdaBoost</td>\n",
       "      <td>0.727 +/- 0.0612</td>\n",
       "      <td>0.7844 +/- 0.0538</td>\n",
       "      <td>0.6576 +/- 0.078</td>\n",
       "      <td>0.7169 +/- 0.1008</td>\n",
       "      <td>0.0706s</td>\n",
       "    </tr>\n",
       "    <tr>\n",
       "      <th>5</th>\n",
       "      <td>SVM</td>\n",
       "      <td>0.7417 +/- 0.0672</td>\n",
       "      <td>0.7967 +/- 0.0585</td>\n",
       "      <td>0.561 +/- 0.1187</td>\n",
       "      <td>0.8174 +/- 0.0936</td>\n",
       "      <td>0.0101s</td>\n",
       "    </tr>\n",
       "    <tr>\n",
       "      <th>6</th>\n",
       "      <td>XGBOOST</td>\n",
       "      <td>0.7358 +/- 0.0452</td>\n",
       "      <td>0.8004 +/- 0.0445</td>\n",
       "      <td>0.6476 +/- 0.0745</td>\n",
       "      <td>0.7433 +/- 0.0868</td>\n",
       "      <td>0.0102s</td>\n",
       "    </tr>\n",
       "    <tr>\n",
       "      <th>7</th>\n",
       "      <td>MLPC</td>\n",
       "      <td>0.7509 +/- 0.0698</td>\n",
       "      <td>0.8089 +/- 0.061</td>\n",
       "      <td>0.6285 +/- 0.1147</td>\n",
       "      <td>0.7824 +/- 0.0975</td>\n",
       "      <td>0.2819s</td>\n",
       "    </tr>\n",
       "  </tbody>\n",
       "</table>\n",
       "</div>"
      ],
      "text/plain": [
       "       Name           Accuracy                AUC             Recall  \\\n",
       "0      Tree  0.6653 +/- 0.0626   0.669 +/- 0.0658   0.644 +/- 0.1329   \n",
       "1        RF  0.7209 +/- 0.0574   0.7973 +/- 0.053  0.6516 +/- 0.1205   \n",
       "2      Bagg   0.718 +/- 0.0593  0.7893 +/- 0.0431  0.6334 +/- 0.1073   \n",
       "3       KNN  0.7073 +/- 0.0554  0.7097 +/- 0.0546  0.6579 +/- 0.1069   \n",
       "4  AdaBoost   0.727 +/- 0.0612  0.7844 +/- 0.0538   0.6576 +/- 0.078   \n",
       "5       SVM  0.7417 +/- 0.0672  0.7967 +/- 0.0585   0.561 +/- 0.1187   \n",
       "6   XGBOOST  0.7358 +/- 0.0452  0.8004 +/- 0.0445  0.6476 +/- 0.0745   \n",
       "7      MLPC  0.7509 +/- 0.0698   0.8089 +/- 0.061  0.6285 +/- 0.1147   \n",
       "\n",
       "           Precision     Time  \n",
       "0   0.6306 +/- 0.085  0.0032s  \n",
       "1  0.7164 +/- 0.0858  0.0802s  \n",
       "2  0.7169 +/- 0.1001  0.0958s  \n",
       "3  0.6966 +/- 0.1097  0.0005s  \n",
       "4  0.7169 +/- 0.1008  0.0706s  \n",
       "5  0.8174 +/- 0.0936  0.0101s  \n",
       "6  0.7433 +/- 0.0868  0.0102s  \n",
       "7  0.7824 +/- 0.0975  0.2819s  "
      ]
     },
     "execution_count": 25,
     "metadata": {},
     "output_type": "execute_result"
    }
   ],
   "source": [
    "run_classifiers(clfs, credit_X_num, credit_label, kf, standardisation=True,engineering=True, replace=True)"
   ]
  },
  {
   "cell_type": "markdown",
   "metadata": {},
   "source": [
    "Si on remplace toute les variables explicatives par leurs projections sur les composantes principales, les performances sont moins bonnes"
   ]
  },
  {
   "cell_type": "code",
   "execution_count": 27,
   "metadata": {},
   "outputs": [
    {
     "data": {
      "text/html": [
       "<div>\n",
       "<style scoped>\n",
       "    .dataframe tbody tr th:only-of-type {\n",
       "        vertical-align: middle;\n",
       "    }\n",
       "\n",
       "    .dataframe tbody tr th {\n",
       "        vertical-align: top;\n",
       "    }\n",
       "\n",
       "    .dataframe thead th {\n",
       "        text-align: right;\n",
       "    }\n",
       "</style>\n",
       "<table border=\"1\" class=\"dataframe\">\n",
       "  <thead>\n",
       "    <tr style=\"text-align: right;\">\n",
       "      <th></th>\n",
       "      <th>Name</th>\n",
       "      <th>Accuracy</th>\n",
       "      <th>AUC</th>\n",
       "      <th>Recall</th>\n",
       "      <th>Precision</th>\n",
       "      <th>Time</th>\n",
       "    </tr>\n",
       "  </thead>\n",
       "  <tbody>\n",
       "    <tr>\n",
       "      <th>0</th>\n",
       "      <td>Tree</td>\n",
       "      <td>0.7223 +/- 0.0389</td>\n",
       "      <td>0.7249 +/- 0.0401</td>\n",
       "      <td>0.7042 +/- 0.0952</td>\n",
       "      <td>0.6939 +/- 0.0795</td>\n",
       "      <td>0.0057s</td>\n",
       "    </tr>\n",
       "    <tr>\n",
       "      <th>1</th>\n",
       "      <td>RF</td>\n",
       "      <td>0.7779 +/- 0.0493</td>\n",
       "      <td>0.8489 +/- 0.0496</td>\n",
       "      <td>0.7121 +/- 0.0998</td>\n",
       "      <td>0.7904 +/- 0.1</td>\n",
       "      <td>0.0839s</td>\n",
       "    </tr>\n",
       "    <tr>\n",
       "      <th>2</th>\n",
       "      <td>Bagg</td>\n",
       "      <td>0.7689 +/- 0.0477</td>\n",
       "      <td>0.8516 +/- 0.0507</td>\n",
       "      <td>0.7037 +/- 0.1167</td>\n",
       "      <td>0.7802 +/- 0.1005</td>\n",
       "      <td>0.1435s</td>\n",
       "    </tr>\n",
       "    <tr>\n",
       "      <th>3</th>\n",
       "      <td>KNN</td>\n",
       "      <td>0.7148 +/- 0.0393</td>\n",
       "      <td>0.7161 +/- 0.0408</td>\n",
       "      <td>0.6644 +/- 0.1167</td>\n",
       "      <td>0.7035 +/- 0.082</td>\n",
       "      <td>0.0006s</td>\n",
       "    </tr>\n",
       "    <tr>\n",
       "      <th>4</th>\n",
       "      <td>AdaBoost</td>\n",
       "      <td>0.7853 +/- 0.0357</td>\n",
       "      <td>0.8465 +/- 0.0477</td>\n",
       "      <td>0.7261 +/- 0.0808</td>\n",
       "      <td>0.7873 +/- 0.0778</td>\n",
       "      <td>0.0836s</td>\n",
       "    </tr>\n",
       "    <tr>\n",
       "      <th>5</th>\n",
       "      <td>SVM</td>\n",
       "      <td>0.7688 +/- 0.0587</td>\n",
       "      <td>0.8389 +/- 0.0475</td>\n",
       "      <td>0.607 +/- 0.0874</td>\n",
       "      <td>0.8475 +/- 0.1049</td>\n",
       "      <td>0.0109s</td>\n",
       "    </tr>\n",
       "    <tr>\n",
       "      <th>6</th>\n",
       "      <td>XGBOOST</td>\n",
       "      <td>0.7884 +/- 0.0517</td>\n",
       "      <td>0.8617 +/- 0.0539</td>\n",
       "      <td>0.6941 +/- 0.1164</td>\n",
       "      <td>0.8152 +/- 0.0769</td>\n",
       "      <td>0.0161s</td>\n",
       "    </tr>\n",
       "    <tr>\n",
       "      <th>7</th>\n",
       "      <td>MLPC</td>\n",
       "      <td>0.7958 +/- 0.0486</td>\n",
       "      <td>0.8618 +/- 0.0388</td>\n",
       "      <td>0.7074 +/- 0.1014</td>\n",
       "      <td>0.82 +/- 0.0712</td>\n",
       "      <td>0.2969s</td>\n",
       "    </tr>\n",
       "  </tbody>\n",
       "</table>\n",
       "</div>"
      ],
      "text/plain": [
       "       Name           Accuracy                AUC             Recall  \\\n",
       "0      Tree  0.7223 +/- 0.0389  0.7249 +/- 0.0401  0.7042 +/- 0.0952   \n",
       "1        RF  0.7779 +/- 0.0493  0.8489 +/- 0.0496  0.7121 +/- 0.0998   \n",
       "2      Bagg  0.7689 +/- 0.0477  0.8516 +/- 0.0507  0.7037 +/- 0.1167   \n",
       "3       KNN  0.7148 +/- 0.0393  0.7161 +/- 0.0408  0.6644 +/- 0.1167   \n",
       "4  AdaBoost  0.7853 +/- 0.0357  0.8465 +/- 0.0477  0.7261 +/- 0.0808   \n",
       "5       SVM  0.7688 +/- 0.0587  0.8389 +/- 0.0475   0.607 +/- 0.0874   \n",
       "6   XGBOOST  0.7884 +/- 0.0517  0.8617 +/- 0.0539  0.6941 +/- 0.1164   \n",
       "7      MLPC  0.7958 +/- 0.0486  0.8618 +/- 0.0388  0.7074 +/- 0.1014   \n",
       "\n",
       "           Precision     Time  \n",
       "0  0.6939 +/- 0.0795  0.0057s  \n",
       "1     0.7904 +/- 0.1  0.0839s  \n",
       "2  0.7802 +/- 0.1005  0.1435s  \n",
       "3   0.7035 +/- 0.082  0.0006s  \n",
       "4  0.7873 +/- 0.0778  0.0836s  \n",
       "5  0.8475 +/- 0.1049  0.0109s  \n",
       "6  0.8152 +/- 0.0769  0.0161s  \n",
       "7    0.82 +/- 0.0712  0.2969s  "
      ]
     },
     "execution_count": 27,
     "metadata": {},
     "output_type": "execute_result"
    }
   ],
   "source": [
    "run_classifiers(clfs, credit_X_num, credit_label, kf, standardisation=True, engineering=True, replace=False)"
   ]
  },
  {
   "cell_type": "markdown",
   "metadata": {},
   "source": [
    "Si on rajoute aux variables explicatives leurs projections sur les composantes principales, les performances des modèles semblent s'améliorer, surtout pour XGBOOST et MLPC"
   ]
  },
  {
   "cell_type": "markdown",
   "metadata": {},
   "source": [
    "Sans avoir chercher à tuner les hyperparamètres, on voit qu'il est important de transformer les données pour avoir des modèles plus performants"
   ]
  },
  {
   "cell_type": "markdown",
   "metadata": {},
   "source": [
    "On va à présent essayer de tuner les hyperparamètres de 3 modèles, RF, XGBOOST et SVM"
   ]
  },
  {
   "cell_type": "code",
   "execution_count": 10,
   "metadata": {},
   "outputs": [],
   "source": [
    "#fonction d'affchage des performances des modèles\n",
    "def report(results, n_top=3):\n",
    "    for i in range(1, n_top + 1):\n",
    "        candidates = np.flatnonzero(results['rank_test_score'] == i)\n",
    "        for candidate in candidates:\n",
    "            print(\"Model with rank: {0}\".format(i))\n",
    "            print(\"Mean validation score: {0:.3f} (std: {1:.3f})\".format(\n",
    "                  results['mean_test_score'][candidate],\n",
    "                  results['std_test_score'][candidate]))\n",
    "            print(\"Parameters: {0}\".format(results['params'][candidate]))\n",
    "            print(\"\")"
   ]
  },
  {
   "cell_type": "code",
   "execution_count": 7,
   "metadata": {},
   "outputs": [],
   "source": [
    "# on va garder la version avec Normalisation et engineering\n",
    "scaler = StandardScaler()\n",
    "X = scaler.fit_transform(credit_X_num)\n",
    "X = ajout_PCA(X)"
   ]
  },
  {
   "cell_type": "markdown",
   "metadata": {},
   "source": [
    "Le critère le plus important entre recall et precision est pour nous précision. En effet il nous semble qu'il est plus important de ne pas se tromper lorsqu'on accorde un crédit plutôt que d'essayer d'accorder un crédit aux plus grand nombre qui risque d'être très préjudiciable si on se trompe."
   ]
  },
  {
   "cell_type": "markdown",
   "metadata": {},
   "source": [
    "On va utiliser un randomizedSearch pour trouver une bonne combinaison d'hyperparamètres permettant d'augmenter la précision car c'est comme on l'a dit le critère qui semble être le plus important"
   ]
  },
  {
   "cell_type": "code",
   "execution_count": 42,
   "metadata": {},
   "outputs": [
    {
     "name": "stdout",
     "output_type": "stream",
     "text": [
      "Fitting 10 folds for each of 100 candidates, totalling 1000 fits\n"
     ]
    },
    {
     "name": "stderr",
     "output_type": "stream",
     "text": [
      "[Parallel(n_jobs=-1)]: Done  42 tasks      | elapsed:    5.4s\n",
      "[Parallel(n_jobs=-1)]: Done 192 tasks      | elapsed:   20.7s\n",
      "[Parallel(n_jobs=-1)]: Done 442 tasks      | elapsed:   43.7s\n",
      "[Parallel(n_jobs=-1)]: Done 792 tasks      | elapsed:  1.4min\n"
     ]
    },
    {
     "name": "stdout",
     "output_type": "stream",
     "text": [
      "Model with rank: 1\n",
      "Mean validation score: 0.905 (std: 0.094)\n",
      "Parameters: {'criterion': 'gini', 'max_depth': 1, 'max_features': 1, 'min_samples_leaf': 2, 'min_samples_split': 6, 'n_estimators': 107}\n",
      "\n",
      "Model with rank: 2\n",
      "Mean validation score: 0.877 (std: 0.092)\n",
      "Parameters: {'criterion': 'gini', 'max_depth': 1, 'max_features': 2, 'min_samples_leaf': 3, 'min_samples_split': 8, 'n_estimators': 155}\n",
      "\n",
      "Model with rank: 3\n",
      "Mean validation score: 0.875 (std: 0.073)\n",
      "Parameters: {'criterion': 'entropy', 'max_depth': 1, 'max_features': 3, 'min_samples_leaf': 8, 'min_samples_split': 7, 'n_estimators': 21}\n",
      "\n"
     ]
    },
    {
     "name": "stderr",
     "output_type": "stream",
     "text": [
      "[Parallel(n_jobs=-1)]: Done 1000 out of 1000 | elapsed:  1.7min finished\n"
     ]
    }
   ],
   "source": [
    "from sklearn.model_selection import RandomizedSearchCV\n",
    "from scipy.stats import randint as sp_randint\n",
    "from scipy.stats import uniform as unif\n",
    "#scoring = {'AUC': 'roc_auc', 'Accuracy': 'accuracy'}\n",
    "param_dist = {\"max_depth\": sp_randint(1,20),\n",
    "              \"max_features\": sp_randint(1, 6),\n",
    "              \"min_samples_split\": sp_randint(2, 11),\n",
    "              \"min_samples_leaf\": sp_randint(1, 11),\n",
    "              \"n_estimators\": sp_randint(20, 200),\n",
    "              \"criterion\": [\"gini\", \"entropy\"]}\n",
    "\n",
    "rs = RandomizedSearchCV(RandomForestClassifier(random_state=42),\n",
    "                   cv=kf, refit=False, param_distributions=param_dist, n_iter=100,scoring=\"precision\", verbose=1, n_jobs=-1)\n",
    "rs.fit(X, credit_label)\n",
    "report(rs.cv_results_)"
   ]
  },
  {
   "cell_type": "markdown",
   "metadata": {},
   "source": [
    "On voit les 3 jeux d'hyperparamètres qui donnent la meilleur performance en terme de précision pour le modèle RandomForrest, après 100 itérations.\n",
    "Les résultats montrent que ces modèles sont beaucoup plus performant selon ce critère qu'avec les hyperparamètres par défaut de sklearn\n"
   ]
  },
  {
   "cell_type": "code",
   "execution_count": 48,
   "metadata": {},
   "outputs": [
    {
     "name": "stdout",
     "output_type": "stream",
     "text": [
      "Fitting 10 folds for each of 1000 candidates, totalling 10000 fits\n"
     ]
    },
    {
     "name": "stderr",
     "output_type": "stream",
     "text": [
      "[Parallel(n_jobs=-1)]: Done 212 tasks      | elapsed:    8.9s\n",
      "[Parallel(n_jobs=-1)]: Done 479 tasks      | elapsed:   20.4s\n",
      "[Parallel(n_jobs=-1)]: Done 979 tasks      | elapsed:   38.3s\n",
      "[Parallel(n_jobs=-1)]: Done 1679 tasks      | elapsed:  1.1min\n",
      "[Parallel(n_jobs=-1)]: Done 2579 tasks      | elapsed:  1.7min\n",
      "[Parallel(n_jobs=-1)]: Done 4005 tasks      | elapsed:  2.5min\n",
      "[Parallel(n_jobs=-1)]: Done 5307 tasks      | elapsed:  3.4min\n",
      "[Parallel(n_jobs=-1)]: Done 7217 tasks      | elapsed:  4.6min\n"
     ]
    },
    {
     "name": "stdout",
     "output_type": "stream",
     "text": [
      "Model with rank: 1\n",
      "Mean validation score: 0.839 (std: 0.114)\n",
      "Parameters: {'colsample_bytree': 0.64999999999999991, 'gamma': 0.82094263335786788, 'learning_rate': 0.02485915256988791, 'max_depth': 3, 'n_estimators': 71, 'reg_alpha': 0.004868024116561287, 'reg_lambda': 0.69043301226536935, 'subsample': 0.20311286417959473}\n",
      "\n",
      "Model with rank: 2\n",
      "Mean validation score: 0.830 (std: 0.116)\n",
      "Parameters: {'colsample_bytree': 0.34999999999999998, 'gamma': 0.52764785121122992, 'learning_rate': 0.030792514204779131, 'max_depth': 8, 'n_estimators': 88, 'reg_alpha': 0.91952274074656937, 'reg_lambda': 0.23310961447759027, 'subsample': 0.05943241941380073}\n",
      "\n",
      "Model with rank: 3\n",
      "Mean validation score: 0.829 (std: 0.084)\n",
      "Parameters: {'colsample_bytree': 0.84999999999999987, 'gamma': 0.78612249731847683, 'learning_rate': 0.0042540494388217942, 'max_depth': 2, 'n_estimators': 151, 'reg_alpha': 0.43798094619122552, 'reg_lambda': 0.81429189411436254, 'subsample': 0.74008965192160148}\n",
      "\n"
     ]
    },
    {
     "name": "stderr",
     "output_type": "stream",
     "text": [
      "[Parallel(n_jobs=-1)]: Done 10000 out of 10000 | elapsed:  6.2min finished\n"
     ]
    }
   ],
   "source": [
    "param_dist = {'max_depth': sp_randint(1, 10),\n",
    "              'learning_rate': unif(0, 1),\n",
    "              'n_estimators': sp_randint(50, 500),\n",
    "              'gamma': unif(0, 1),\n",
    "              'reg_alpha': unif(0, 1),\n",
    "              'reg_lambda': unif(0, 1),\n",
    "              'subsample' : unif(0, 1),\n",
    "              'colsample_bytree' : np.arange(.3, 1, .05)\n",
    "             }\n",
    "\n",
    "rs = RandomizedSearchCV(XGBClassifier(seed=20, nthread=1, silent=True),\n",
    "                   cv=kf, param_distributions=param_dist, n_iter=1000, scoring='precision', verbose=1, n_jobs=-1)\n",
    "rs.fit(X, credit_label)\n",
    "report(rs.cv_results_)"
   ]
  },
  {
   "cell_type": "markdown",
   "metadata": {},
   "source": [
    "On voit les 3 jeux d'hyperparamètres qui donnent la meilleur performance en terme de précision pour le modèle XGBOOST après 1000 itérations.\n",
    "Les résultats montrent que ces modèles sont légérements plus performant selon ce critère qu'avec les hyperparamètres par défaut de sklearn\n"
   ]
  },
  {
   "cell_type": "code",
   "execution_count": 50,
   "metadata": {},
   "outputs": [
    {
     "name": "stdout",
     "output_type": "stream",
     "text": [
      "Fitting 10 folds for each of 1000 candidates, totalling 10000 fits\n"
     ]
    },
    {
     "name": "stderr",
     "output_type": "stream",
     "text": [
      "[Parallel(n_jobs=-1)]: Done 296 tasks      | elapsed:    2.8s\n",
      "[Parallel(n_jobs=-1)]: Done 1616 tasks      | elapsed:   15.2s\n",
      "[Parallel(n_jobs=-1)]: Done 3824 tasks      | elapsed:   35.5s\n",
      "[Parallel(n_jobs=-1)]: Done 6904 tasks      | elapsed:  1.1min\n"
     ]
    },
    {
     "name": "stdout",
     "output_type": "stream",
     "text": [
      "Model with rank: 1\n",
      "Mean validation score: 0.950 (std: 0.150)\n",
      "Parameters: {'C': 2.5, 'gamma': 0.00019198517428442585, 'kernel': 'sigmoid'}\n",
      "\n",
      "Model with rank: 2\n",
      "Mean validation score: 0.903 (std: 0.078)\n",
      "Parameters: {'C': 4.0, 'gamma': 0.0010528906352473832, 'kernel': 'sigmoid'}\n",
      "\n",
      "Model with rank: 3\n",
      "Mean validation score: 0.902 (std: 0.081)\n",
      "Parameters: {'C': 3.0, 'gamma': 0.0028648153488537442, 'kernel': 'sigmoid'}\n",
      "\n"
     ]
    },
    {
     "name": "stderr",
     "output_type": "stream",
     "text": [
      "[Parallel(n_jobs=-1)]: Done 10000 out of 10000 | elapsed:  1.5min finished\n"
     ]
    }
   ],
   "source": [
    "param_dist = {'C':[0.5 + 0.5*i for i in range(10)],\n",
    "              'gamma': unif(0, 1),\n",
    "              'kernel':  ['linear', 'rbf', 'sigmoid']\n",
    "             }\n",
    "\n",
    "rs = RandomizedSearchCV(SVC(random_state=20),\n",
    "                   cv=kf, param_distributions=param_dist, n_iter=1000,scoring='precision', verbose=.5, n_jobs=-1)\n",
    "rs.fit(X, credit_label)\n",
    "report(rs.cv_results_)"
   ]
  },
  {
   "cell_type": "markdown",
   "metadata": {},
   "source": [
    "On voit les 3 jeux d'hyperparamètres qui donnent la meilleur performance en terme de précision pour le modèle SVM après 1000 itérations.\n",
    "Les résultats montrent que ces modèles sont bien plus performant selon ce critère qu'avec les hyperparamètres par défaut de sklearn\n"
   ]
  },
  {
   "cell_type": "code",
   "execution_count": 51,
   "metadata": {},
   "outputs": [
    {
     "data": {
      "text/plain": [
       "<matplotlib.axes._subplots.AxesSubplot at 0x7f5dbad1e7b8>"
      ]
     },
     "execution_count": 51,
     "metadata": {},
     "output_type": "execute_result"
    },
    {
     "data": {
      "image/png": "[encoded data removed]",
      "text/plain": [
       "<matplotlib.figure.Figure at 0x7f5db8663a90>"
      ]
     },
     "metadata": {},
     "output_type": "display_data"
    }
   ],
   "source": [
    "df = pd.DataFrame(X)\n",
    "clf = RandomForestClassifier(n_estimators=50, max_features='sqrt')\n",
    "clf = clf.fit(X, credit_label)\n",
    "features = pd.DataFrame()\n",
    "features['feature'] = df.columns\n",
    "features['importance'] = clf.feature_importances_\n",
    "features.sort_values(by=['importance'], ascending=True, inplace=True)\n",
    "features.set_index('feature', inplace=True)\n",
    "features.plot(kind='barh', figsize=(20, 20))"
   ]
  },
  {
   "cell_type": "code",
   "execution_count": 52,
   "metadata": {},
   "outputs": [],
   "source": [
    "def keep_important(X, importance, min_take=.08):\n",
    "    res = [X[:,i] for i, x in enumerate(X[0,:]) if importance[i]> min_take ]\n",
    "    return np.array(res).T\n",
    "\n",
    "X_select = keep_important(X, clf.feature_importances_)"
   ]
  },
  {
   "cell_type": "code",
   "execution_count": 53,
   "metadata": {},
   "outputs": [
    {
     "data": {
      "text/html": [
       "<div>\n",
       "<style scoped>\n",
       "    .dataframe tbody tr th:only-of-type {\n",
       "        vertical-align: middle;\n",
       "    }\n",
       "\n",
       "    .dataframe tbody tr th {\n",
       "        vertical-align: top;\n",
       "    }\n",
       "\n",
       "    .dataframe thead th {\n",
       "        text-align: right;\n",
       "    }\n",
       "</style>\n",
       "<table border=\"1\" class=\"dataframe\">\n",
       "  <thead>\n",
       "    <tr style=\"text-align: right;\">\n",
       "      <th></th>\n",
       "      <th>Name</th>\n",
       "      <th>Accuracy</th>\n",
       "      <th>AUC</th>\n",
       "      <th>Recall</th>\n",
       "      <th>Precision</th>\n",
       "      <th>Time</th>\n",
       "    </tr>\n",
       "  </thead>\n",
       "  <tbody>\n",
       "    <tr>\n",
       "      <th>0</th>\n",
       "      <td>Tree</td>\n",
       "      <td>0.7163 +/- 0.0442</td>\n",
       "      <td>0.7173 +/- 0.0467</td>\n",
       "      <td>0.6828 +/- 0.1059</td>\n",
       "      <td>0.6911 +/- 0.0875</td>\n",
       "      <td>0.0028s</td>\n",
       "    </tr>\n",
       "    <tr>\n",
       "      <th>1</th>\n",
       "      <td>RF</td>\n",
       "      <td>0.7538 +/- 0.0538</td>\n",
       "      <td>0.8337 +/- 0.0486</td>\n",
       "      <td>0.6739 +/- 0.1276</td>\n",
       "      <td>0.7563 +/- 0.0671</td>\n",
       "      <td>0.0751s</td>\n",
       "    </tr>\n",
       "    <tr>\n",
       "      <th>2</th>\n",
       "      <td>Bagg</td>\n",
       "      <td>0.7704 +/- 0.0454</td>\n",
       "      <td>0.8325 +/- 0.0458</td>\n",
       "      <td>0.6907 +/- 0.1181</td>\n",
       "      <td>0.7842 +/- 0.0905</td>\n",
       "      <td>0.1008s</td>\n",
       "    </tr>\n",
       "    <tr>\n",
       "      <th>3</th>\n",
       "      <td>KNN</td>\n",
       "      <td>0.7149 +/- 0.0523</td>\n",
       "      <td>0.7106 +/- 0.0549</td>\n",
       "      <td>0.6451 +/- 0.0986</td>\n",
       "      <td>0.6982 +/- 0.0857</td>\n",
       "      <td>0.0013s</td>\n",
       "    </tr>\n",
       "    <tr>\n",
       "      <th>4</th>\n",
       "      <td>AdaBoost</td>\n",
       "      <td>0.7674 +/- 0.0353</td>\n",
       "      <td>0.8487 +/- 0.0444</td>\n",
       "      <td>0.7054 +/- 0.1092</td>\n",
       "      <td>0.7655 +/- 0.0784</td>\n",
       "      <td>0.0747s</td>\n",
       "    </tr>\n",
       "    <tr>\n",
       "      <th>5</th>\n",
       "      <td>SVM</td>\n",
       "      <td>0.7538 +/- 0.0581</td>\n",
       "      <td>0.833 +/- 0.0504</td>\n",
       "      <td>0.5763 +/- 0.1033</td>\n",
       "      <td>0.8371 +/- 0.0968</td>\n",
       "      <td>0.0107s</td>\n",
       "    </tr>\n",
       "    <tr>\n",
       "      <th>6</th>\n",
       "      <td>XGBOOST</td>\n",
       "      <td>0.787 +/- 0.0482</td>\n",
       "      <td>0.8565 +/- 0.041</td>\n",
       "      <td>0.682 +/- 0.1123</td>\n",
       "      <td>0.8202 +/- 0.0891</td>\n",
       "      <td>0.0129s</td>\n",
       "    </tr>\n",
       "    <tr>\n",
       "      <th>7</th>\n",
       "      <td>MLPC</td>\n",
       "      <td>0.7614 +/- 0.0464</td>\n",
       "      <td>0.8368 +/- 0.0464</td>\n",
       "      <td>0.657 +/- 0.0794</td>\n",
       "      <td>0.7882 +/- 0.0901</td>\n",
       "      <td>0.2843s</td>\n",
       "    </tr>\n",
       "  </tbody>\n",
       "</table>\n",
       "</div>"
      ],
      "text/plain": [
       "       Name           Accuracy                AUC             Recall  \\\n",
       "0      Tree  0.7163 +/- 0.0442  0.7173 +/- 0.0467  0.6828 +/- 0.1059   \n",
       "1        RF  0.7538 +/- 0.0538  0.8337 +/- 0.0486  0.6739 +/- 0.1276   \n",
       "2      Bagg  0.7704 +/- 0.0454  0.8325 +/- 0.0458  0.6907 +/- 0.1181   \n",
       "3       KNN  0.7149 +/- 0.0523  0.7106 +/- 0.0549  0.6451 +/- 0.0986   \n",
       "4  AdaBoost  0.7674 +/- 0.0353  0.8487 +/- 0.0444  0.7054 +/- 0.1092   \n",
       "5       SVM  0.7538 +/- 0.0581   0.833 +/- 0.0504  0.5763 +/- 0.1033   \n",
       "6   XGBOOST   0.787 +/- 0.0482   0.8565 +/- 0.041   0.682 +/- 0.1123   \n",
       "7      MLPC  0.7614 +/- 0.0464  0.8368 +/- 0.0464   0.657 +/- 0.0794   \n",
       "\n",
       "           Precision     Time  \n",
       "0  0.6911 +/- 0.0875  0.0028s  \n",
       "1  0.7563 +/- 0.0671  0.0751s  \n",
       "2  0.7842 +/- 0.0905  0.1008s  \n",
       "3  0.6982 +/- 0.0857  0.0013s  \n",
       "4  0.7655 +/- 0.0784  0.0747s  \n",
       "5  0.8371 +/- 0.0968  0.0107s  \n",
       "6  0.8202 +/- 0.0891  0.0129s  \n",
       "7  0.7882 +/- 0.0901  0.2843s  "
      ]
     },
     "execution_count": 53,
     "metadata": {},
     "output_type": "execute_result"
    }
   ],
   "source": [
    "run_classifiers(clfs, X_select, credit_label, kf)"
   ]
  },
  {
   "cell_type": "markdown",
   "metadata": {},
   "source": [
    "Les performances ne sont pas significativement meilleur que sans séléction de variables avec les modèles par défaut"
   ]
  },
  {
   "cell_type": "markdown",
   "metadata": {},
   "source": [
    "Données manquantes"
   ]
  },
  {
   "cell_type": "code",
   "execution_count": 54,
   "metadata": {},
   "outputs": [],
   "source": [
    "from sklearn.preprocessing import Imputer, OneHotEncoder"
   ]
  },
  {
   "cell_type": "code",
   "execution_count": 55,
   "metadata": {},
   "outputs": [],
   "source": [
    "credit = pd.read_csv('credit.data', delimiter='\\t', header=None, decimal='.')"
   ]
  },
  {
   "cell_type": "code",
   "execution_count": 70,
   "metadata": {},
   "outputs": [],
   "source": [
    "col_num = [1, 2, 7, 10, 13, 14]\n",
    "col_cat = [i for i in range(0, 15) if i not in col_num]\n",
    "X = credit.values\n",
    "X_cat = np.copy(X[:,col_cat])\n",
    "y = [get_value(x) for x in X[:,15]]\n",
    "for col_id in range(len(col_cat)):\n",
    "    unique_val, val_idx = np.unique(X_cat[:, col_id], return_inverse=True)\n",
    "    X_cat[:, col_id] = val_idx\n",
    "\n",
    "imp_cat = Imputer(missing_values=0, strategy='most_frequent')\n",
    "X_cat[:, range(5)] = imp_cat.fit_transform(X_cat[:, range(5)])\n",
    "X_cat_bin = OneHotEncoder().fit_transform(X_cat).toarray()\n",
    "X_num = np.copy(X[:, col_num])\n",
    "X_num[X_num == '?'] = np.nan\n",
    "X_num = X_num.astype(float)\n",
    "imp_num = Imputer(missing_values=np.nan, strategy='mean')\n",
    "X_num = imp_num.fit_transform(X_num)\n",
    "scaler = StandardScaler()\n",
    "X_num = scaler.fit_transform(X_num)\n",
    "X_num = ajout_PCA(X_num)"
   ]
  },
  {
   "cell_type": "code",
   "execution_count": 71,
   "metadata": {},
   "outputs": [],
   "source": [
    "data = np.concatenate((X_num, X_cat_bin), axis=1)\n",
    "# le jeu de donnée complet est data"
   ]
  },
  {
   "cell_type": "code",
   "execution_count": 72,
   "metadata": {},
   "outputs": [
    {
     "data": {
      "text/plain": [
       "<matplotlib.axes._subplots.AxesSubplot at 0x7f5db81d7940>"
      ]
     },
     "execution_count": 72,
     "metadata": {},
     "output_type": "execute_result"
    },
    {
     "data": {
      "image/png": "[encoded data removed]",
      "text/plain": [
       "<matplotlib.figure.Figure at 0x7f5db8315400>"
      ]
     },
     "metadata": {},
     "output_type": "display_data"
    }
   ],
   "source": [
    "df = pd.DataFrame(data)\n",
    "clf = RandomForestClassifier(n_estimators=50, max_features='sqrt')\n",
    "clf = clf.fit(data, y)\n",
    "features = pd.DataFrame()\n",
    "features['feature'] = df.columns\n",
    "features['importance'] = clf.feature_importances_\n",
    "features.sort_values(by=['importance'], ascending=True, inplace=True)\n",
    "features.set_index('feature', inplace=True)\n",
    "features.plot(kind='barh', figsize=(20, 20))"
   ]
  },
  {
   "cell_type": "markdown",
   "metadata": {},
   "source": [
    "On choisi de garder que les variables qui ont une \"importantce\" supérieur à 1%"
   ]
  },
  {
   "cell_type": "code",
   "execution_count": 68,
   "metadata": {},
   "outputs": [],
   "source": [
    "data_select = keep_important(data, clf.feature_importances_, .01)"
   ]
  },
  {
   "cell_type": "code",
   "execution_count": 69,
   "metadata": {},
   "outputs": [
    {
     "data": {
      "text/html": [
       "<div>\n",
       "<style scoped>\n",
       "    .dataframe tbody tr th:only-of-type {\n",
       "        vertical-align: middle;\n",
       "    }\n",
       "\n",
       "    .dataframe tbody tr th {\n",
       "        vertical-align: top;\n",
       "    }\n",
       "\n",
       "    .dataframe thead th {\n",
       "        text-align: right;\n",
       "    }\n",
       "</style>\n",
       "<table border=\"1\" class=\"dataframe\">\n",
       "  <thead>\n",
       "    <tr style=\"text-align: right;\">\n",
       "      <th></th>\n",
       "      <th>Name</th>\n",
       "      <th>Accuracy</th>\n",
       "      <th>AUC</th>\n",
       "      <th>Recall</th>\n",
       "      <th>Precision</th>\n",
       "      <th>Time</th>\n",
       "    </tr>\n",
       "  </thead>\n",
       "  <tbody>\n",
       "    <tr>\n",
       "      <th>0</th>\n",
       "      <td>Tree</td>\n",
       "      <td>0.785 +/- 0.0486</td>\n",
       "      <td>0.7857 +/- 0.0509</td>\n",
       "      <td>0.7775 +/- 0.0751</td>\n",
       "      <td>0.7498 +/- 0.065</td>\n",
       "      <td>0.0042s</td>\n",
       "    </tr>\n",
       "    <tr>\n",
       "      <th>1</th>\n",
       "      <td>RF</td>\n",
       "      <td>0.8634 +/- 0.0317</td>\n",
       "      <td>0.9208 +/- 0.0257</td>\n",
       "      <td>0.8484 +/- 0.0478</td>\n",
       "      <td>0.8428 +/- 0.0623</td>\n",
       "      <td>0.0766s</td>\n",
       "    </tr>\n",
       "    <tr>\n",
       "      <th>2</th>\n",
       "      <td>Bagg</td>\n",
       "      <td>0.8504 +/- 0.028</td>\n",
       "      <td>0.9181 +/- 0.0203</td>\n",
       "      <td>0.835 +/- 0.0433</td>\n",
       "      <td>0.8255 +/- 0.0633</td>\n",
       "      <td>0.1325s</td>\n",
       "    </tr>\n",
       "    <tr>\n",
       "      <th>3</th>\n",
       "      <td>KNN</td>\n",
       "      <td>0.8082 +/- 0.0351</td>\n",
       "      <td>0.8065 +/- 0.0346</td>\n",
       "      <td>0.7695 +/- 0.0498</td>\n",
       "      <td>0.7931 +/- 0.0769</td>\n",
       "      <td>0.0006s</td>\n",
       "    </tr>\n",
       "    <tr>\n",
       "      <th>4</th>\n",
       "      <td>AdaBoost</td>\n",
       "      <td>0.8416 +/- 0.0322</td>\n",
       "      <td>0.9119 +/- 0.028</td>\n",
       "      <td>0.835 +/- 0.0716</td>\n",
       "      <td>0.8087 +/- 0.0599</td>\n",
       "      <td>0.0831s</td>\n",
       "    </tr>\n",
       "    <tr>\n",
       "      <th>5</th>\n",
       "      <td>SVM</td>\n",
       "      <td>0.8519 +/- 0.0306</td>\n",
       "      <td>0.9127 +/- 0.0271</td>\n",
       "      <td>0.9177 +/- 0.0405</td>\n",
       "      <td>0.7816 +/- 0.0597</td>\n",
       "      <td>0.0106s</td>\n",
       "    </tr>\n",
       "    <tr>\n",
       "      <th>6</th>\n",
       "      <td>XGBOOST</td>\n",
       "      <td>0.8577 +/- 0.0262</td>\n",
       "      <td>0.9308 +/- 0.0168</td>\n",
       "      <td>0.8498 +/- 0.0539</td>\n",
       "      <td>0.8315 +/- 0.0664</td>\n",
       "      <td>0.022s</td>\n",
       "    </tr>\n",
       "    <tr>\n",
       "      <th>7</th>\n",
       "      <td>MLPC</td>\n",
       "      <td>0.849 +/- 0.0437</td>\n",
       "      <td>0.9189 +/- 0.0267</td>\n",
       "      <td>0.855 +/- 0.0689</td>\n",
       "      <td>0.8096 +/- 0.0633</td>\n",
       "      <td>0.2308s</td>\n",
       "    </tr>\n",
       "  </tbody>\n",
       "</table>\n",
       "</div>"
      ],
      "text/plain": [
       "       Name           Accuracy                AUC             Recall  \\\n",
       "0      Tree   0.785 +/- 0.0486  0.7857 +/- 0.0509  0.7775 +/- 0.0751   \n",
       "1        RF  0.8634 +/- 0.0317  0.9208 +/- 0.0257  0.8484 +/- 0.0478   \n",
       "2      Bagg   0.8504 +/- 0.028  0.9181 +/- 0.0203   0.835 +/- 0.0433   \n",
       "3       KNN  0.8082 +/- 0.0351  0.8065 +/- 0.0346  0.7695 +/- 0.0498   \n",
       "4  AdaBoost  0.8416 +/- 0.0322   0.9119 +/- 0.028   0.835 +/- 0.0716   \n",
       "5       SVM  0.8519 +/- 0.0306  0.9127 +/- 0.0271  0.9177 +/- 0.0405   \n",
       "6   XGBOOST  0.8577 +/- 0.0262  0.9308 +/- 0.0168  0.8498 +/- 0.0539   \n",
       "7      MLPC   0.849 +/- 0.0437  0.9189 +/- 0.0267   0.855 +/- 0.0689   \n",
       "\n",
       "           Precision     Time  \n",
       "0   0.7498 +/- 0.065  0.0042s  \n",
       "1  0.8428 +/- 0.0623  0.0766s  \n",
       "2  0.8255 +/- 0.0633  0.1325s  \n",
       "3  0.7931 +/- 0.0769  0.0006s  \n",
       "4  0.8087 +/- 0.0599  0.0831s  \n",
       "5  0.7816 +/- 0.0597  0.0106s  \n",
       "6  0.8315 +/- 0.0664   0.022s  \n",
       "7  0.8096 +/- 0.0633  0.2308s  "
      ]
     },
     "execution_count": 69,
     "metadata": {},
     "output_type": "execute_result"
    }
   ],
   "source": [
    "run_classifiers(clfs, data_select, y, kf)"
   ]
  },
  {
   "cell_type": "markdown",
   "metadata": {},
   "source": [
    "On voit que la performance des classifiers est globalement bien meilleure même sans avoir chercher les hyperparamètres \"optimaux\""
   ]
  }
 ],
 "metadata": {
  "kernelspec": {
   "display_name": "Python 3",
   "language": "python",
   "name": "python3"
  },
  "language_info": {
   "codemirror_mode": {
    "name": "ipython",
    "version": 3
   },
   "file_extension": ".py",
   "mimetype": "text/x-python",
   "name": "python",
   "nbconvert_exporter": "python",
   "pygments_lexer": "ipython3",
   "version": "3.6.4"
  }
 },
 "nbformat": 4,
 "nbformat_minor": 2
}
